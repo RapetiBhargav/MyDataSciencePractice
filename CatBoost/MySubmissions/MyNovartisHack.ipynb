{
  "nbformat": 4,
  "nbformat_minor": 0,
  "metadata": {
    "colab": {
      "name": "MyNovartisHack.ipynb",
      "provenance": [],
      "collapsed_sections": []
    },
    "kernelspec": {
      "name": "python3",
      "display_name": "Python 3"
    }
  },
  "cells": [
    {
      "cell_type": "markdown",
      "metadata": {
        "id": "GbkUuTfMyu4H",
        "colab_type": "text"
      },
      "source": [
        "# Install required packages:"
      ]
    },
    {
      "cell_type": "code",
      "metadata": {
        "id": "PMhM-1K474eB",
        "colab_type": "code",
        "colab": {
          "base_uri": "https://localhost:8080/",
          "height": 365
        },
        "outputId": "7d3b6a28-e23b-4217-ff9b-2131d559b676"
      },
      "source": [
        "!pip install catboost"
      ],
      "execution_count": 17,
      "outputs": [
        {
          "output_type": "stream",
          "text": [
            "Collecting catboost\n",
            "\u001b[?25l  Downloading https://files.pythonhosted.org/packages/b2/aa/e61819d04ef2bbee778bf4b3a748db1f3ad23512377e43ecfdc3211437a0/catboost-0.23.2-cp36-none-manylinux1_x86_64.whl (64.8MB)\n",
            "\u001b[K     |████████████████████████████████| 64.8MB 52kB/s \n",
            "\u001b[?25hRequirement already satisfied: plotly in /usr/local/lib/python3.6/dist-packages (from catboost) (4.4.1)\n",
            "Requirement already satisfied: pandas>=0.24.0 in /usr/local/lib/python3.6/dist-packages (from catboost) (1.0.4)\n",
            "Requirement already satisfied: scipy in /usr/local/lib/python3.6/dist-packages (from catboost) (1.4.1)\n",
            "Requirement already satisfied: graphviz in /usr/local/lib/python3.6/dist-packages (from catboost) (0.10.1)\n",
            "Requirement already satisfied: numpy>=1.16.0 in /usr/local/lib/python3.6/dist-packages (from catboost) (1.18.5)\n",
            "Requirement already satisfied: matplotlib in /usr/local/lib/python3.6/dist-packages (from catboost) (3.2.1)\n",
            "Requirement already satisfied: six in /usr/local/lib/python3.6/dist-packages (from catboost) (1.12.0)\n",
            "Requirement already satisfied: retrying>=1.3.3 in /usr/local/lib/python3.6/dist-packages (from plotly->catboost) (1.3.3)\n",
            "Requirement already satisfied: pytz>=2017.2 in /usr/local/lib/python3.6/dist-packages (from pandas>=0.24.0->catboost) (2018.9)\n",
            "Requirement already satisfied: python-dateutil>=2.6.1 in /usr/local/lib/python3.6/dist-packages (from pandas>=0.24.0->catboost) (2.8.1)\n",
            "Requirement already satisfied: cycler>=0.10 in /usr/local/lib/python3.6/dist-packages (from matplotlib->catboost) (0.10.0)\n",
            "Requirement already satisfied: kiwisolver>=1.0.1 in /usr/local/lib/python3.6/dist-packages (from matplotlib->catboost) (1.2.0)\n",
            "Requirement already satisfied: pyparsing!=2.0.4,!=2.1.2,!=2.1.6,>=2.0.1 in /usr/local/lib/python3.6/dist-packages (from matplotlib->catboost) (2.4.7)\n",
            "Installing collected packages: catboost\n",
            "Successfully installed catboost-0.23.2\n"
          ],
          "name": "stdout"
        }
      ]
    },
    {
      "cell_type": "code",
      "metadata": {
        "id": "cra4WLAD79fT",
        "colab_type": "code",
        "colab": {
          "base_uri": "https://localhost:8080/",
          "height": 255
        },
        "outputId": "a96673d5-f862-4e3e-c41b-35c0f711e586"
      },
      "source": [
        "!pip install scikit-optimize"
      ],
      "execution_count": 18,
      "outputs": [
        {
          "output_type": "stream",
          "text": [
            "Collecting scikit-optimize\n",
            "\u001b[?25l  Downloading https://files.pythonhosted.org/packages/5c/87/310b52debfbc0cb79764e5770fa3f5c18f6f0754809ea9e2fc185e1b67d3/scikit_optimize-0.7.4-py2.py3-none-any.whl (80kB)\n",
            "\r\u001b[K     |████                            | 10kB 16.7MB/s eta 0:00:01\r\u001b[K     |████████▏                       | 20kB 2.9MB/s eta 0:00:01\r\u001b[K     |████████████▎                   | 30kB 4.1MB/s eta 0:00:01\r\u001b[K     |████████████████▎               | 40kB 4.3MB/s eta 0:00:01\r\u001b[K     |████████████████████▍           | 51kB 3.3MB/s eta 0:00:01\r\u001b[K     |████████████████████████▌       | 61kB 3.8MB/s eta 0:00:01\r\u001b[K     |████████████████████████████▌   | 71kB 4.1MB/s eta 0:00:01\r\u001b[K     |████████████████████████████████| 81kB 3.2MB/s \n",
            "\u001b[?25hRequirement already satisfied: joblib>=0.11 in /usr/local/lib/python3.6/dist-packages (from scikit-optimize) (0.15.1)\n",
            "Collecting pyaml>=16.9\n",
            "  Downloading https://files.pythonhosted.org/packages/15/c4/1310a054d33abc318426a956e7d6df0df76a6ddfa9c66f6310274fb75d42/pyaml-20.4.0-py2.py3-none-any.whl\n",
            "Requirement already satisfied: scikit-learn>=0.19.1 in /usr/local/lib/python3.6/dist-packages (from scikit-optimize) (0.22.2.post1)\n",
            "Requirement already satisfied: scipy>=0.18.0 in /usr/local/lib/python3.6/dist-packages (from scikit-optimize) (1.4.1)\n",
            "Requirement already satisfied: numpy>=1.11.0 in /usr/local/lib/python3.6/dist-packages (from scikit-optimize) (1.18.5)\n",
            "Requirement already satisfied: PyYAML in /usr/local/lib/python3.6/dist-packages (from pyaml>=16.9->scikit-optimize) (3.13)\n",
            "Installing collected packages: pyaml, scikit-optimize\n",
            "Successfully installed pyaml-20.4.0 scikit-optimize-0.7.4\n"
          ],
          "name": "stdout"
        }
      ]
    },
    {
      "cell_type": "code",
      "metadata": {
        "id": "SF5IJgRxzCS3",
        "colab_type": "code",
        "colab": {
          "base_uri": "https://localhost:8080/",
          "height": 72
        },
        "outputId": "6cb5ef04-027d-46f7-846b-145112bab02c"
      },
      "source": [
        "!pip install xgboost"
      ],
      "execution_count": 65,
      "outputs": [
        {
          "output_type": "stream",
          "text": [
            "Requirement already satisfied: xgboost in /usr/local/lib/python3.6/dist-packages (0.90)\n",
            "Requirement already satisfied: scipy in /usr/local/lib/python3.6/dist-packages (from xgboost) (1.4.1)\n",
            "Requirement already satisfied: numpy in /usr/local/lib/python3.6/dist-packages (from xgboost) (1.18.5)\n"
          ],
          "name": "stdout"
        }
      ]
    },
    {
      "cell_type": "code",
      "metadata": {
        "id": "GzPgYVCWFWT2",
        "colab_type": "code",
        "colab": {}
      },
      "source": [
        "#Importing libraries \n",
        "import numpy as np \n",
        "import pandas as pd\n",
        "import matplotlib.pyplot as plt\n",
        "%matplotlib inline\n",
        "plt.rcParams['figure.figsize'] = (10.0, 8.0)\n",
        "import seaborn as sns\n",
        "from sklearn.metrics import classification_report\n",
        "import datetime as dt\n",
        "from sklearn import model_selection\n",
        "from sklearn import preprocessing\n",
        "\n",
        "# Utility libs\n",
        "from tqdm import tqdm\n",
        "import time\n",
        "import datetime\n",
        "from skopt import gp_minimize\n",
        "from skopt.space import Real, Integer\n",
        "from skopt.utils import use_named_args\n",
        "from skopt.plots import plot_convergence\n",
        "import os\n",
        "import catboost\n"
      ],
      "execution_count": 0,
      "outputs": []
    },
    {
      "cell_type": "code",
      "metadata": {
        "id": "CiNx2a5SGFmR",
        "colab_type": "code",
        "colab": {}
      },
      "source": [
        "train=pd.read_csv(\"/content/Train.csv\")\n",
        "test=pd.read_csv(\"/content/Test.csv\")"
      ],
      "execution_count": 0,
      "outputs": []
    },
    {
      "cell_type": "code",
      "metadata": {
        "id": "iOteMlYNCi2X",
        "colab_type": "code",
        "colab": {
          "base_uri": "https://localhost:8080/",
          "height": 35
        },
        "outputId": "141053b8-2596-4bb6-c656-78580d101552"
      },
      "source": [
        "train.shape,test.shape"
      ],
      "execution_count": 88,
      "outputs": [
        {
          "output_type": "execute_result",
          "data": {
            "text/plain": [
              "((23856, 18), (15903, 17))"
            ]
          },
          "metadata": {
            "tags": []
          },
          "execution_count": 88
        }
      ]
    },
    {
      "cell_type": "code",
      "metadata": {
        "id": "8viEo8h2Cu7o",
        "colab_type": "code",
        "colab": {
          "base_uri": "https://localhost:8080/",
          "height": 363
        },
        "outputId": "b24c9f7d-ff64-4ebe-e7ad-7a22656dcf2f"
      },
      "source": [
        "train.dtypes"
      ],
      "execution_count": 89,
      "outputs": [
        {
          "output_type": "execute_result",
          "data": {
            "text/plain": [
              "INCIDENT_ID          object\n",
              "DATE                 object\n",
              "X_1                   int64\n",
              "X_2                   int64\n",
              "X_3                   int64\n",
              "X_4                   int64\n",
              "X_5                   int64\n",
              "X_6                   int64\n",
              "X_7                   int64\n",
              "X_8                   int64\n",
              "X_9                   int64\n",
              "X_10                  int64\n",
              "X_11                  int64\n",
              "X_12                float64\n",
              "X_13                  int64\n",
              "X_14                  int64\n",
              "X_15                  int64\n",
              "MULTIPLE_OFFENSE      int64\n",
              "dtype: object"
            ]
          },
          "metadata": {
            "tags": []
          },
          "execution_count": 89
        }
      ]
    },
    {
      "cell_type": "code",
      "metadata": {
        "id": "_uNtmHq1HFbR",
        "colab_type": "code",
        "outputId": "a3852a89-4d26-43c1-80b9-3aca8001ab8a",
        "colab": {
          "base_uri": "https://localhost:8080/",
          "height": 292
        }
      },
      "source": [
        "train.head"
      ],
      "execution_count": 90,
      "outputs": [
        {
          "output_type": "execute_result",
          "data": {
            "text/plain": [
              "<bound method NDFrame.head of       INCIDENT_ID       DATE  X_1  X_2  ...  X_13  X_14  X_15  MULTIPLE_OFFENSE\n",
              "0       CR_102659  04-JUL-04    0   36  ...    92    29    36                 0\n",
              "1       CR_189752  18-JUL-17    1   37  ...   103   142    34                 1\n",
              "2       CR_184637  15-MAR-17    0    3  ...   110    93    34                 1\n",
              "3       CR_139071  13-FEB-09    0   33  ...    72    29    34                 1\n",
              "4       CR_109335  13-APR-05    0   33  ...   112    29    43                 1\n",
              "...           ...        ...  ...  ...  ...   ...   ...   ...               ...\n",
              "23851    CR_88991  11-JAN-02    1   47  ...    98    29    34                 1\n",
              "23852    CR_46369  05-FEB-97    0   33  ...   112    29    43                 1\n",
              "23853   CR_157556  03-APR-12    0   25  ...    10    29    18                 1\n",
              "23854   CR_103180  25-JAN-04    0   39  ...   112   103    43                 1\n",
              "23855    CR_22575  08-NOV-94    7   36  ...    92    29    34                 1\n",
              "\n",
              "[23856 rows x 18 columns]>"
            ]
          },
          "metadata": {
            "tags": []
          },
          "execution_count": 90
        }
      ]
    },
    {
      "cell_type": "code",
      "metadata": {
        "id": "xYxWJPrHDKKW",
        "colab_type": "code",
        "colab": {
          "base_uri": "https://localhost:8080/",
          "height": 363
        },
        "outputId": "ff85d853-ac74-4f60-c542-0b0590512439"
      },
      "source": [
        "#Columns which have null values in Train\n",
        "train.isnull().sum()"
      ],
      "execution_count": 91,
      "outputs": [
        {
          "output_type": "execute_result",
          "data": {
            "text/plain": [
              "INCIDENT_ID           0\n",
              "DATE                  0\n",
              "X_1                   0\n",
              "X_2                   0\n",
              "X_3                   0\n",
              "X_4                   0\n",
              "X_5                   0\n",
              "X_6                   0\n",
              "X_7                   0\n",
              "X_8                   0\n",
              "X_9                   0\n",
              "X_10                  0\n",
              "X_11                  0\n",
              "X_12                182\n",
              "X_13                  0\n",
              "X_14                  0\n",
              "X_15                  0\n",
              "MULTIPLE_OFFENSE      0\n",
              "dtype: int64"
            ]
          },
          "metadata": {
            "tags": []
          },
          "execution_count": 91
        }
      ]
    },
    {
      "cell_type": "code",
      "metadata": {
        "id": "zU4SuTYJDZW6",
        "colab_type": "code",
        "colab": {
          "base_uri": "https://localhost:8080/",
          "height": 345
        },
        "outputId": "d5eb9e98-aaac-4c41-99d3-79530d83d505"
      },
      "source": [
        "#Columns which have null values in Test\n",
        "test.isnull().sum()"
      ],
      "execution_count": 92,
      "outputs": [
        {
          "output_type": "execute_result",
          "data": {
            "text/plain": [
              "INCIDENT_ID      0\n",
              "DATE             0\n",
              "X_1              0\n",
              "X_2              0\n",
              "X_3              0\n",
              "X_4              0\n",
              "X_5              0\n",
              "X_6              0\n",
              "X_7              0\n",
              "X_8              0\n",
              "X_9              0\n",
              "X_10             0\n",
              "X_11             0\n",
              "X_12           127\n",
              "X_13             0\n",
              "X_14             0\n",
              "X_15             0\n",
              "dtype: int64"
            ]
          },
          "metadata": {
            "tags": []
          },
          "execution_count": 92
        }
      ]
    },
    {
      "cell_type": "code",
      "metadata": {
        "id": "MMnTF04nIAW0",
        "colab_type": "code",
        "colab": {
          "base_uri": "https://localhost:8080/",
          "height": 72
        },
        "outputId": "d9f02cc2-cc09-4be2-bb7c-ef3cc91bf8a0"
      },
      "source": [
        "train['MULTIPLE_OFFENSE'].value_counts()\n",
        "# This is an imbalanced dataset"
      ],
      "execution_count": 93,
      "outputs": [
        {
          "output_type": "execute_result",
          "data": {
            "text/plain": [
              "1    22788\n",
              "0     1068\n",
              "Name: MULTIPLE_OFFENSE, dtype: int64"
            ]
          },
          "metadata": {
            "tags": []
          },
          "execution_count": 93
        }
      ]
    },
    {
      "cell_type": "code",
      "metadata": {
        "id": "3UC5j4OrDuTU",
        "colab_type": "code",
        "colab": {
          "base_uri": "https://localhost:8080/",
          "height": 407
        },
        "outputId": "076bb1ac-e1e5-42e1-cee3-7ff5aec1c1a2"
      },
      "source": [
        "train[['INCIDENT_ID','DATE']].sort_values('DATE')\n",
        "\n",
        "#The CR_Numbers don't necessarily follow a strict pattern as per date"
      ],
      "execution_count": 94,
      "outputs": [
        {
          "output_type": "execute_result",
          "data": {
            "text/html": [
              "<div>\n",
              "<style scoped>\n",
              "    .dataframe tbody tr th:only-of-type {\n",
              "        vertical-align: middle;\n",
              "    }\n",
              "\n",
              "    .dataframe tbody tr th {\n",
              "        vertical-align: top;\n",
              "    }\n",
              "\n",
              "    .dataframe thead th {\n",
              "        text-align: right;\n",
              "    }\n",
              "</style>\n",
              "<table border=\"1\" class=\"dataframe\">\n",
              "  <thead>\n",
              "    <tr style=\"text-align: right;\">\n",
              "      <th></th>\n",
              "      <th>INCIDENT_ID</th>\n",
              "      <th>DATE</th>\n",
              "    </tr>\n",
              "  </thead>\n",
              "  <tbody>\n",
              "    <tr>\n",
              "      <th>23407</th>\n",
              "      <td>CR_64567</td>\n",
              "      <td>01-APR-00</td>\n",
              "    </tr>\n",
              "    <tr>\n",
              "      <th>5141</th>\n",
              "      <td>CR_67892</td>\n",
              "      <td>01-APR-00</td>\n",
              "    </tr>\n",
              "    <tr>\n",
              "      <th>22426</th>\n",
              "      <td>CR_64509</td>\n",
              "      <td>01-APR-00</td>\n",
              "    </tr>\n",
              "    <tr>\n",
              "      <th>5260</th>\n",
              "      <td>CR_64677</td>\n",
              "      <td>01-APR-00</td>\n",
              "    </tr>\n",
              "    <tr>\n",
              "      <th>6584</th>\n",
              "      <td>CR_70210</td>\n",
              "      <td>01-APR-00</td>\n",
              "    </tr>\n",
              "    <tr>\n",
              "      <th>...</th>\n",
              "      <td>...</td>\n",
              "      <td>...</td>\n",
              "    </tr>\n",
              "    <tr>\n",
              "      <th>15690</th>\n",
              "      <td>CR_53107</td>\n",
              "      <td>31-OCT-98</td>\n",
              "    </tr>\n",
              "    <tr>\n",
              "      <th>1877</th>\n",
              "      <td>CR_51290</td>\n",
              "      <td>31-OCT-98</td>\n",
              "    </tr>\n",
              "    <tr>\n",
              "      <th>20209</th>\n",
              "      <td>CR_54167</td>\n",
              "      <td>31-OCT-98</td>\n",
              "    </tr>\n",
              "    <tr>\n",
              "      <th>10337</th>\n",
              "      <td>CR_61624</td>\n",
              "      <td>31-OCT-99</td>\n",
              "    </tr>\n",
              "    <tr>\n",
              "      <th>17859</th>\n",
              "      <td>CR_61524</td>\n",
              "      <td>31-OCT-99</td>\n",
              "    </tr>\n",
              "  </tbody>\n",
              "</table>\n",
              "<p>23856 rows × 2 columns</p>\n",
              "</div>"
            ],
            "text/plain": [
              "      INCIDENT_ID       DATE\n",
              "23407    CR_64567  01-APR-00\n",
              "5141     CR_67892  01-APR-00\n",
              "22426    CR_64509  01-APR-00\n",
              "5260     CR_64677  01-APR-00\n",
              "6584     CR_70210  01-APR-00\n",
              "...           ...        ...\n",
              "15690    CR_53107  31-OCT-98\n",
              "1877     CR_51290  31-OCT-98\n",
              "20209    CR_54167  31-OCT-98\n",
              "10337    CR_61624  31-OCT-99\n",
              "17859    CR_61524  31-OCT-99\n",
              "\n",
              "[23856 rows x 2 columns]"
            ]
          },
          "metadata": {
            "tags": []
          },
          "execution_count": 94
        }
      ]
    },
    {
      "cell_type": "code",
      "metadata": {
        "id": "AIBN2vSNFT16",
        "colab_type": "code",
        "colab": {
          "base_uri": "https://localhost:8080/",
          "height": 108
        },
        "outputId": "e26e7383-2b23-4be0-98f3-b9c0ceec6285"
      },
      "source": [
        "#Min-Max range of X_* columns in train\n",
        "def minMax(x):\n",
        "    return pd.Series(index=['min','max'],data=[x.min(),x.max()])\n",
        "\n",
        "train.filter(like='X_', axis=1).apply(minMax)"
      ],
      "execution_count": 95,
      "outputs": [
        {
          "output_type": "execute_result",
          "data": {
            "text/html": [
              "<div>\n",
              "<style scoped>\n",
              "    .dataframe tbody tr th:only-of-type {\n",
              "        vertical-align: middle;\n",
              "    }\n",
              "\n",
              "    .dataframe tbody tr th {\n",
              "        vertical-align: top;\n",
              "    }\n",
              "\n",
              "    .dataframe thead th {\n",
              "        text-align: right;\n",
              "    }\n",
              "</style>\n",
              "<table border=\"1\" class=\"dataframe\">\n",
              "  <thead>\n",
              "    <tr style=\"text-align: right;\">\n",
              "      <th></th>\n",
              "      <th>X_1</th>\n",
              "      <th>X_2</th>\n",
              "      <th>X_3</th>\n",
              "      <th>X_4</th>\n",
              "      <th>X_5</th>\n",
              "      <th>X_6</th>\n",
              "      <th>X_7</th>\n",
              "      <th>X_8</th>\n",
              "      <th>X_9</th>\n",
              "      <th>X_10</th>\n",
              "      <th>X_11</th>\n",
              "      <th>X_12</th>\n",
              "      <th>X_13</th>\n",
              "      <th>X_14</th>\n",
              "      <th>X_15</th>\n",
              "    </tr>\n",
              "  </thead>\n",
              "  <tbody>\n",
              "    <tr>\n",
              "      <th>min</th>\n",
              "      <td>0</td>\n",
              "      <td>0</td>\n",
              "      <td>0</td>\n",
              "      <td>0</td>\n",
              "      <td>0</td>\n",
              "      <td>1</td>\n",
              "      <td>0</td>\n",
              "      <td>0</td>\n",
              "      <td>0</td>\n",
              "      <td>1</td>\n",
              "      <td>0</td>\n",
              "      <td>0.0</td>\n",
              "      <td>0</td>\n",
              "      <td>0</td>\n",
              "      <td>0</td>\n",
              "    </tr>\n",
              "    <tr>\n",
              "      <th>max</th>\n",
              "      <td>7</td>\n",
              "      <td>52</td>\n",
              "      <td>52</td>\n",
              "      <td>10</td>\n",
              "      <td>5</td>\n",
              "      <td>19</td>\n",
              "      <td>18</td>\n",
              "      <td>99</td>\n",
              "      <td>6</td>\n",
              "      <td>90</td>\n",
              "      <td>332</td>\n",
              "      <td>90.0</td>\n",
              "      <td>116</td>\n",
              "      <td>142</td>\n",
              "      <td>50</td>\n",
              "    </tr>\n",
              "  </tbody>\n",
              "</table>\n",
              "</div>"
            ],
            "text/plain": [
              "     X_1  X_2  X_3  X_4  X_5  X_6  X_7  ...  X_9  X_10  X_11  X_12  X_13  X_14  X_15\n",
              "min    0    0    0    0    0    1    0  ...    0     1     0   0.0     0     0     0\n",
              "max    7   52   52   10    5   19   18  ...    6    90   332  90.0   116   142    50\n",
              "\n",
              "[2 rows x 15 columns]"
            ]
          },
          "metadata": {
            "tags": []
          },
          "execution_count": 95
        }
      ]
    },
    {
      "cell_type": "code",
      "metadata": {
        "id": "WaakJ9rrHRy_",
        "colab_type": "code",
        "colab": {
          "base_uri": "https://localhost:8080/",
          "height": 108
        },
        "outputId": "17296109-fca1-44c2-cc1f-1a72fc419691"
      },
      "source": [
        "#Min-Max range of X_* columns in test\n",
        "test.filter(like='X_', axis=1).apply(minMax)"
      ],
      "execution_count": 96,
      "outputs": [
        {
          "output_type": "execute_result",
          "data": {
            "text/html": [
              "<div>\n",
              "<style scoped>\n",
              "    .dataframe tbody tr th:only-of-type {\n",
              "        vertical-align: middle;\n",
              "    }\n",
              "\n",
              "    .dataframe tbody tr th {\n",
              "        vertical-align: top;\n",
              "    }\n",
              "\n",
              "    .dataframe thead th {\n",
              "        text-align: right;\n",
              "    }\n",
              "</style>\n",
              "<table border=\"1\" class=\"dataframe\">\n",
              "  <thead>\n",
              "    <tr style=\"text-align: right;\">\n",
              "      <th></th>\n",
              "      <th>X_1</th>\n",
              "      <th>X_2</th>\n",
              "      <th>X_3</th>\n",
              "      <th>X_4</th>\n",
              "      <th>X_5</th>\n",
              "      <th>X_6</th>\n",
              "      <th>X_7</th>\n",
              "      <th>X_8</th>\n",
              "      <th>X_9</th>\n",
              "      <th>X_10</th>\n",
              "      <th>X_11</th>\n",
              "      <th>X_12</th>\n",
              "      <th>X_13</th>\n",
              "      <th>X_14</th>\n",
              "      <th>X_15</th>\n",
              "    </tr>\n",
              "  </thead>\n",
              "  <tbody>\n",
              "    <tr>\n",
              "      <th>min</th>\n",
              "      <td>0</td>\n",
              "      <td>0</td>\n",
              "      <td>0</td>\n",
              "      <td>0</td>\n",
              "      <td>0</td>\n",
              "      <td>1</td>\n",
              "      <td>0</td>\n",
              "      <td>0</td>\n",
              "      <td>0</td>\n",
              "      <td>1</td>\n",
              "      <td>0</td>\n",
              "      <td>0.0</td>\n",
              "      <td>0</td>\n",
              "      <td>0</td>\n",
              "      <td>0</td>\n",
              "    </tr>\n",
              "    <tr>\n",
              "      <th>max</th>\n",
              "      <td>7</td>\n",
              "      <td>52</td>\n",
              "      <td>52</td>\n",
              "      <td>10</td>\n",
              "      <td>5</td>\n",
              "      <td>19</td>\n",
              "      <td>18</td>\n",
              "      <td>50</td>\n",
              "      <td>6</td>\n",
              "      <td>40</td>\n",
              "      <td>332</td>\n",
              "      <td>40.0</td>\n",
              "      <td>117</td>\n",
              "      <td>142</td>\n",
              "      <td>50</td>\n",
              "    </tr>\n",
              "  </tbody>\n",
              "</table>\n",
              "</div>"
            ],
            "text/plain": [
              "     X_1  X_2  X_3  X_4  X_5  X_6  X_7  ...  X_9  X_10  X_11  X_12  X_13  X_14  X_15\n",
              "min    0    0    0    0    0    1    0  ...    0     1     0   0.0     0     0     0\n",
              "max    7   52   52   10    5   19   18  ...    6    40   332  40.0   117   142    50\n",
              "\n",
              "[2 rows x 15 columns]"
            ]
          },
          "metadata": {
            "tags": []
          },
          "execution_count": 96
        }
      ]
    },
    {
      "cell_type": "code",
      "metadata": {
        "id": "EyeRfHzCPVXZ",
        "colab_type": "code",
        "colab": {}
      },
      "source": [
        "#Lets try to interpret which of the X_* columns can be taken as categorical and which ones as numerical\n",
        "\n",
        "#Finding the unique values for X_* columns in train\n",
        "train_unique_values = {\n",
        "        colname: list(train[colname].value_counts().sort_index().index)\n",
        "        for colname in [x for x in train.columns if x.startswith('X_')]\n",
        "    }"
      ],
      "execution_count": 0,
      "outputs": []
    },
    {
      "cell_type": "code",
      "metadata": {
        "id": "6iYSXbMaPsSj",
        "colab_type": "code",
        "colab": {
          "base_uri": "https://localhost:8080/",
          "height": 290
        },
        "outputId": "d5bff9f9-9322-452b-ecd7-326c543d1806"
      },
      "source": [
        "#To check unique values in each column\n",
        "{key:len(value) for key,value in train_unique_values.items()}"
      ],
      "execution_count": 98,
      "outputs": [
        {
          "output_type": "execute_result",
          "data": {
            "text/plain": [
              "{'X_1': 8,\n",
              " 'X_10': 24,\n",
              " 'X_11': 133,\n",
              " 'X_12': 23,\n",
              " 'X_13': 60,\n",
              " 'X_14': 62,\n",
              " 'X_15': 28,\n",
              " 'X_2': 52,\n",
              " 'X_3': 52,\n",
              " 'X_4': 10,\n",
              " 'X_5': 5,\n",
              " 'X_6': 19,\n",
              " 'X_7': 19,\n",
              " 'X_8': 24,\n",
              " 'X_9': 7}"
            ]
          },
          "metadata": {
            "tags": []
          },
          "execution_count": 98
        }
      ]
    },
    {
      "cell_type": "code",
      "metadata": {
        "id": "bv7A0GAOQFJK",
        "colab_type": "code",
        "colab": {}
      },
      "source": [
        "#From above we can interpret Catagorical for columns X_1,X_4,X_5,X_6,X_7,X_9 since their range of values as not more than 20"
      ],
      "execution_count": 0,
      "outputs": []
    },
    {
      "cell_type": "code",
      "metadata": {
        "id": "LTjHlLi3RQUs",
        "colab_type": "code",
        "colab": {
          "base_uri": "https://localhost:8080/",
          "height": 592
        },
        "outputId": "0a53ac46-af79-4de9-ade0-f9828f47118e"
      },
      "source": [
        "#Correlation of X_* features with MULTIPLE_OFFENSE\n",
        "corr=train.filter(like='X_', axis=1).join(train['MULTIPLE_OFFENSE']).corr()\n",
        "sns.heatmap(corr,cmap=\"YlGnBu\")"
      ],
      "execution_count": 100,
      "outputs": [
        {
          "output_type": "execute_result",
          "data": {
            "text/plain": [
              "<matplotlib.axes._subplots.AxesSubplot at 0x7f4eb0298908>"
            ]
          },
          "metadata": {
            "tags": []
          },
          "execution_count": 100
        },
        {
          "output_type": "display_data",
          "data": {
            "image/png": "[encoded data removed]",
            "text/plain": [
              "<Figure size 720x576 with 2 Axes>"
            ]
          },
          "metadata": {
            "tags": [],
            "needs_background": "light"
          }
        }
      ]
    },
    {
      "cell_type": "code",
      "metadata": {
        "id": "BTbNjzXCRs4d",
        "colab_type": "code",
        "colab": {
          "base_uri": "https://localhost:8080/",
          "height": 407
        },
        "outputId": "f05636fd-5b4f-4685-e6b7-86dc7ae36255"
      },
      "source": [
        "#removing the diagnol elements in heatmap for easier visualization\n",
        "\n",
        "mask = np.zeros_like(corr)\n",
        "mask[np.triu_indices_from(mask)] = True\n",
        "with sns.axes_style(\"white\"):\n",
        "    f, ax = plt.subplots(figsize=(7, 5))\n",
        "    ax = sns.heatmap(corr, mask=mask, cmap=\"YlGnBu\", square=True)"
      ],
      "execution_count": 101,
      "outputs": [
        {
          "output_type": "display_data",
          "data": {
            "image/png": "[encoded data removed]",
            "text/plain": [
              "<Figure size 504x360 with 2 Axes>"
            ]
          },
          "metadata": {
            "tags": []
          }
        }
      ]
    },
    {
      "cell_type": "code",
      "metadata": {
        "id": "c32IqfknRw_p",
        "colab_type": "code",
        "colab": {
          "base_uri": "https://localhost:8080/",
          "height": 272
        },
        "outputId": "58a3b924-c9a3-43f8-acd8-d323e1518aa1"
      },
      "source": [
        "#Checking correlation of all fields with MULTIPLE_OFFENSE\n",
        "\n",
        "print (corr['MULTIPLE_OFFENSE'].sort_values(ascending=False)[:5], '\\n') #top 5 values\n",
        "print ('----------------------')\n",
        "print (corr['MULTIPLE_OFFENSE'].sort_values(ascending=False)[-5:]) #last 5 values\n",
        "\n",
        "#here we see MULTIPLE_OFFENSE does'nt have a good correlation with any of the X_ columns"
      ],
      "execution_count": 102,
      "outputs": [
        {
          "output_type": "stream",
          "text": [
            "MULTIPLE_OFFENSE    1.000000\n",
            "X_11                0.105088\n",
            "X_15                0.044916\n",
            "X_1                 0.014034\n",
            "X_13                0.006512\n",
            "Name: MULTIPLE_OFFENSE, dtype: float64 \n",
            "\n",
            "----------------------\n",
            "X_3    -0.027218\n",
            "X_2    -0.027293\n",
            "X_8    -0.033397\n",
            "X_12   -0.113061\n",
            "X_10   -0.242596\n",
            "Name: MULTIPLE_OFFENSE, dtype: float64\n"
          ],
          "name": "stdout"
        }
      ]
    },
    {
      "cell_type": "code",
      "metadata": {
        "id": "_QaT3qXPR6yv",
        "colab_type": "code",
        "colab": {
          "base_uri": "https://localhost:8080/",
          "height": 199
        },
        "outputId": "85482f30-e424-4abe-f31c-cd396b77d2fa"
      },
      "source": [
        "#Checking correlation of all fields with each other\n",
        "\n",
        "print (corr['X_2'].sort_values(ascending=False)[:3], '\\n') #top 3 values\n",
        "print ('----------------------')\n",
        "print (corr['X_2'].sort_values(ascending=False)[-3:]) #last 3 values\n",
        "\n",
        "#Correlated elements: [X2,X3]-0.99,[X_10,X_12]-0.877"
      ],
      "execution_count": 103,
      "outputs": [
        {
          "output_type": "stream",
          "text": [
            "X_2    1.000000\n",
            "X_3    0.996985\n",
            "X_6    0.119718\n",
            "Name: X_2, dtype: float64 \n",
            "\n",
            "----------------------\n",
            "X_12   -0.067720\n",
            "X_4    -0.104321\n",
            "X_5    -0.349190\n",
            "Name: X_2, dtype: float64\n"
          ],
          "name": "stdout"
        }
      ]
    },
    {
      "cell_type": "markdown",
      "metadata": {
        "id": "7GrRRgMFTt0x",
        "colab_type": "text"
      },
      "source": [
        "### Visual Analysis:"
      ]
    },
    {
      "cell_type": "code",
      "metadata": {
        "id": "3w4CQ5hOHZmp",
        "colab_type": "code",
        "colab": {
          "base_uri": "https://localhost:8080/",
          "height": 1000
        },
        "outputId": "6b77be11-6961-43ff-e07c-1e7208d1e9ad"
      },
      "source": [
        "#Lets create a box plot of all X_* features with MULTIPLE_OFFENSE as hue in train\n",
        "def boxplot(x,y,**kwargs):\n",
        "            sns.boxplot(x=x,y=y)\n",
        "            x = plt.xticks(rotation=90)\n",
        "\n",
        "features =[x for x in train.columns if x.startswith('X_')]\n",
        "p = pd.melt(train, id_vars='MULTIPLE_OFFENSE', value_vars=features)\n",
        "g = sns.FacetGrid (p, col='variable', col_wrap=3, sharex=False, sharey=False, size=5)\n",
        "g = g.map(boxplot, 'MULTIPLE_OFFENSE','value')\n",
        "g"
      ],
      "execution_count": 104,
      "outputs": [
        {
          "output_type": "stream",
          "text": [
            "/usr/local/lib/python3.6/dist-packages/seaborn/axisgrid.py:243: UserWarning: The `size` parameter has been renamed to `height`; please update your code.\n",
            "  warnings.warn(msg, UserWarning)\n"
          ],
          "name": "stderr"
        },
        {
          "output_type": "execute_result",
          "data": {
            "text/plain": [
              "<seaborn.axisgrid.FacetGrid at 0x7f4eadc8feb8>"
            ]
          },
          "metadata": {
            "tags": []
          },
          "execution_count": 104
        },
        {
          "output_type": "display_data",
          "data": {
            "image/png": "[encoded data removed]",
            "text/plain": [
              "<Figure size 1080x1800 with 15 Axes>"
            ]
          },
          "metadata": {
            "tags": [],
            "needs_background": "light"
          }
        }
      ]
    },
    {
      "cell_type": "code",
      "metadata": {
        "id": "vJzN9PTHXUi-",
        "colab_type": "code",
        "colab": {
          "base_uri": "https://localhost:8080/",
          "height": 1000
        },
        "outputId": "3c608fc7-e392-4b7f-c087-26108984537f"
      },
      "source": [
        "#Lets create a box plot of all X_* features with MULTIPLE_OFFENSE as hue in train\n",
        "fig, axes =plt.subplots(15,1)\n",
        "for t,i in enumerate([x for x in train.columns if x.startswith('X_')]):\n",
        "  sns.barplot(x=i,y='COUNT',hue='MULTIPLE_OFFENSE',data=train.groupby([i])['MULTIPLE_OFFENSE'].value_counts().to_frame().rename(columns={'MULTIPLE_OFFENSE':'COUNT'}).reset_index(),ax=axes[t])\n",
        "  axes[t].figure.set_size_inches(20, 50)\n",
        "  axes[t].set_title(i)\n",
        "  plt.xticks(rotation=90)\n",
        "  plt.tight_layout()"
      ],
      "execution_count": 105,
      "outputs": [
        {
          "output_type": "display_data",
          "data": {
            "image/png": "[encoded data removed]",
            "text/plain": [
              "<Figure size 1440x3600 with 15 Axes>"
            ]
          },
          "metadata": {
            "tags": [],
            "needs_background": "light"
          }
        }
      ]
    },
    {
      "cell_type": "code",
      "metadata": {
        "id": "0lrah7VfnQdy",
        "colab_type": "code",
        "colab": {
          "base_uri": "https://localhost:8080/",
          "height": 369
        },
        "outputId": "fac086a3-1325-4f57-cffd-737598708f16"
      },
      "source": [
        "#Univariate Analysis\n",
        "sns.catplot(x=\"MULTIPLE_OFFENSE\", y=\"X_12\", data=train);\n",
        "\n",
        "#Here we see anything above X_12=20 is Hacked(1)"
      ],
      "execution_count": 41,
      "outputs": [
        {
          "output_type": "display_data",
          "data": {
            "image/png": "[encoded data removed]",
            "text/plain": [
              "<Figure size 360x360 with 1 Axes>"
            ]
          },
          "metadata": {
            "tags": [],
            "needs_background": "light"
          }
        }
      ]
    },
    {
      "cell_type": "markdown",
      "metadata": {
        "id": "kRG3LCOkx82D",
        "colab_type": "text"
      },
      "source": [
        "## Model Building Phase:"
      ]
    },
    {
      "cell_type": "markdown",
      "metadata": {
        "id": "mwfbuSiCyERv",
        "colab_type": "text"
      },
      "source": [
        "1. For a more modular approach , I have made each of the classifiers into functions as shown below.I have included the Data-Preprocessing step in this.\n",
        "\n",
        "2. I have tried different models like KNN ,Decision Trees and Random Forrest initially. They did not give a good score.(Not more than 98.44 for Decision Trees)\n",
        "\n",
        "3. Later I went to try Adaboost and XGB. I got a score of 99.37 and 99.44\n",
        "\n",
        "4. Finally I tried CatBoost whose parameters are optimized with Scikit-Optimize.\n",
        "\n",
        "5. I have evaluated the Catboost Model on entire Train dataset using Confusion matrix, and the diagnols of the matrix were close to 0 , which was good enough.\n",
        "\n",
        "6. I got a score of 100 on submission for Catboost.\n"
      ]
    },
    {
      "cell_type": "code",
      "metadata": {
        "id": "Adf1WWzQi9Ni",
        "colab_type": "code",
        "colab": {}
      },
      "source": [
        "#Used loggg to log time it took for training\n",
        "def loggg(f):\n",
        "  def wrapper(dataf,*args,**kwargs):\n",
        "    tic = dt.datetime.now()\n",
        "    result = f(dataf, *args, **kwargs)\n",
        "    toc = dt.datetime.now()\n",
        "    print(f\"{f.__name__} took {toc-tic}\")\n",
        "    return result\n",
        "  return wrapper\n",
        "\n",
        "def start_pipeline(dataf):\n",
        "  return dataf.copy()\n",
        "\n",
        "def clean_dataset(dataf):\n",
        "  #Changing from object to datetime for DATE column\n",
        "  dataf.DATE=pd.to_datetime(dataf.DATE)\n",
        "\n",
        "  #Lets create additional features like YEAR, MONTH and DAY_OF_WEEK \n",
        "  dataf['YEAR'], dataf['MONTH'] = dataf['DATE'].dt.year, dataf['DATE'].dt.month\n",
        "  dataf['DAY_OF_WEEK']=(pd.DatetimeIndex(dataf.DATE).dayofweek).astype(int)\n",
        "\n",
        "  #Lets fill the missing value of X_12\n",
        "  #From our EDA we've seen X_10 and X_12 are correlated(0.87), So we can impute the missing values of X_12 with X_10\n",
        "  dataf.loc[dataf['X_12'].isna(),'X_12']=dataf.loc[dataf['X_12'].isna(),'X_10']\n",
        "  return dataf\n",
        "\n",
        "def prepare_dataset(dataf):\n",
        "  features = ['X_1', 'X_2', 'X_3', 'X_4', 'X_5', 'X_6', 'X_7',\n",
        "       'X_8', 'X_9', 'X_10', 'X_11', 'X_12', 'X_13', 'X_14', 'X_15', 'YEAR', 'MONTH', 'DAY_OF_WEEK']\n",
        "  X = dataf[ features ]\n",
        "  try:\n",
        "    y = dataf['MULTIPLE_OFFENSE']\n",
        "    return X,y\n",
        "  except:\n",
        "    return X\n",
        "  \n",
        "def standarize_dataset(X):\n",
        "  scaler = preprocessing.StandardScaler()\n",
        "  X = scaler.fit_transform(X)\n",
        "  return X\n",
        "\n",
        "@loggg\n",
        "def KNN_Classifier(train,test):\n",
        "  from sklearn import neighbors\n",
        "  #For Train\n",
        "  X,y = (train.pipe(start_pipeline).pipe(clean_dataset).pipe(prepare_dataset))\n",
        "  X = standarize_dataset(X)\n",
        "  X_train, X_eval, y_train, y_eval = model_selection.train_test_split(X, y, test_size=0.1, random_state=1)\n",
        "  \n",
        "  #For Test\n",
        "  X_test = (test.pipe(start_pipeline).pipe(clean_dataset).pipe(prepare_dataset))\n",
        "  X_test = standarize_dataset(X_test)\n",
        "  \n",
        "  knn_grid = {'n_neighbors': list(range(2,10)) }\n",
        "  knn_estimator = neighbors.KNeighborsClassifier()\n",
        "  knn_grid_estimator = model_selection.GridSearchCV(knn_estimator, knn_grid, scoring='accuracy', cv=10)\n",
        "  knn_grid_estimator.fit(X_train, y_train)\n",
        "  print('best params:',knn_grid_estimator.best_params_)\n",
        "  print('best score on train set:',knn_grid_estimator.best_score_)\n",
        "  print('Score on train set:',knn_grid_estimator.score(X_train, y_train))\n",
        "\n",
        "  #Check score on evaluation set\n",
        "  print('Score on eval set:',knn_grid_estimator.score(X_eval, y_eval))\n",
        "\n",
        "  #Classification Report\n",
        "  y_pred = knn_grid_estimator.predict(X_eval)\n",
        "  print('Classification Report on eval set:\\n',classification_report(y_pred, y_eval))\n",
        "\n",
        "  #Predict on test set\n",
        "  Predicted = knn_grid_estimator.predict(X_test)\n",
        "  submission=pd.DataFrame({'INCIDENT_ID': test['INCIDENT_ID'],'MULTIPLE_OFFENSE': Predicted})\n",
        "  submission.to_csv('submission_KNN.csv', columns=['INCIDENT_ID', 'MULTIPLE_OFFENSE'], index=False)\n",
        "  pass\n",
        "\n",
        "@loggg\n",
        "def DT_Classifier(train,test):\n",
        "  from sklearn import tree\n",
        "\n",
        "  #For Train\n",
        "  X,y = (train.pipe(start_pipeline).pipe(clean_dataset).pipe(prepare_dataset))\n",
        "  X_train, X_eval, y_train, y_eval = model_selection.train_test_split(X, y, test_size=0.1, random_state=1)\n",
        "  \n",
        "  #For Test\n",
        "  X_test = (test.pipe(start_pipeline).pipe(clean_dataset).pipe(prepare_dataset))\n",
        "  \n",
        "  #For DT lets tune the hyperparameters\n",
        "  dt_estimator = tree.DecisionTreeClassifier()\n",
        "  dt_grid = {'max_depth': [3,4,5,6,7,8,9], 'criterion':['gini', 'entropy'], 'min_samples_split':[3, 5, 10]} \n",
        "  dt_grid_estimator = model_selection.GridSearchCV(dt_estimator, dt_grid, scoring='accuracy', cv=10)\n",
        "  dt_grid_estimator.fit(X_train, y_train)\n",
        "\n",
        "  print('CV results:',dt_grid_estimator.cv_results_)\n",
        "  print('best params:',dt_grid_estimator.best_params_)\n",
        "  print('best score on train set:',dt_grid_estimator.best_score_)\n",
        "  print('best estimator:',dt_grid_estimator.best_estimator_)\n",
        "  print('Score on train set:',dt_grid_estimator.score(X_train, y_train))\n",
        "\n",
        "  #Check score on evaluation set\n",
        "  print('Score on eval set:',dt_grid_estimator.score(X_eval, y_eval))\n",
        "\n",
        "  #Classification Report\n",
        "  y_pred = dt_grid_estimator.predict(X_eval)\n",
        "  print('Classification Report on eval set:\\n',classification_report(y_pred, y_eval))\n",
        "\n",
        "  #Predict on test set\n",
        "  Predicted = dt_grid_estimator.predict(X_test)\n",
        "  submission=pd.DataFrame({'INCIDENT_ID': test['INCIDENT_ID'],'MULTIPLE_OFFENSE': Predicted})\n",
        "  submission.to_csv('submission_DT.csv', columns=['INCIDENT_ID', 'MULTIPLE_OFFENSE'], index=False)\n",
        "  pass\n",
        "\n",
        "@loggg\n",
        "def RandomForrest_Classifier(train,test):\n",
        "  from sklearn import tree,ensemble\n",
        "\n",
        "  #For Train\n",
        "  X,y = (train.pipe(start_pipeline).pipe(clean_dataset).pipe(prepare_dataset))\n",
        "  X_train, X_eval, y_train, y_eval = model_selection.train_test_split(X, y, test_size=0.1, random_state=1)\n",
        "  \n",
        "  #For Test\n",
        "  X_test = (test.pipe(start_pipeline).pipe(clean_dataset).pipe(prepare_dataset))\n",
        "\n",
        "  #For Random forest lets tune the hyperparameters\n",
        "  rf_estimator = ensemble.RandomForestClassifier()\n",
        "  rf_grid = {'max_depth': [3,4,5,6], 'n_estimators':list(range(10, 50, 10)), 'max_features':[2,3,4]}\n",
        "  rf_grid_estimator = model_selection.GridSearchCV(rf_estimator, rf_grid, scoring='accuracy', cv=10)\n",
        "  rf_grid_estimator.fit(X_train, y_train)\n",
        "  print('best params:',rf_grid_estimator.best_params_)\n",
        "  print('best score:',rf_grid_estimator.best_score_)\n",
        "  print('best estimator:',rf_grid_estimator.best_estimator_)\n",
        "  #This gave details of the random forrest\n",
        "  print('estimator of best estimator in the RF ensemble:',rf_grid_estimator.best_estimator_.estimators_)\n",
        "  #This gave details of every decision tree in the random forrest\n",
        "  print('Score on train set:',rf_grid_estimator.score(X_train, y_train))\n",
        "\n",
        "  #Check score on evaluation set\n",
        "  print('Score on eval set:',rf_grid_estimator.score(X_eval, y_eval))\n",
        "\n",
        "  #Classification Report\n",
        "  y_pred = rf_grid_estimator.predict(X_eval)\n",
        "  print('Classification Report on eval set:\\n',classification_report(y_pred, y_eval))\n",
        "\n",
        "  #Predict on test set\n",
        "  Predicted = rf_grid_estimator.predict(X_test)\n",
        "  submission=pd.DataFrame({'INCIDENT_ID': test['INCIDENT_ID'],'MULTIPLE_OFFENSE': Predicted})\n",
        "  submission.to_csv('submission_RF.csv', columns=['INCIDENT_ID', 'MULTIPLE_OFFENSE'], index=False)\n",
        "  pass\n",
        "\n",
        "@loggg\n",
        "def Adaboost_Classifier(train,test):\n",
        "  from sklearn import tree,ensemble\n",
        "\n",
        "  #For Train\n",
        "  X,y = (train.pipe(start_pipeline).pipe(clean_dataset).pipe(prepare_dataset))\n",
        "  X_train, X_eval, y_train, y_eval = model_selection.train_test_split(X, y, test_size=0.1, random_state=1)\n",
        "  \n",
        "  #For Test\n",
        "  X_test = (test.pipe(start_pipeline).pipe(clean_dataset).pipe(prepare_dataset))\n",
        "\n",
        "  base_estimator = tree.DecisionTreeClassifier()\n",
        "  ada_estimator = ensemble.AdaBoostClassifier(base_estimator)\n",
        "  ada_grid = {'base_estimator__max_depth': [3,4,5], 'n_estimators':list(range(30, 200, 50)), 'learning_rate':[0.1,0.3,0.5,1.0]}\n",
        "  ada_grid_estimator = model_selection.GridSearchCV(ada_estimator, ada_grid, scoring='accuracy', cv=10)\n",
        "  ada_grid_estimator.fit(X_train, y_train)\n",
        "\n",
        "  print('best params:',ada_grid_estimator.best_params_)\n",
        "  print('best score:',ada_grid_estimator.best_score_)\n",
        "  print('best estimators:',ada_grid_estimator.best_estimator_.estimators_)\n",
        "  print('Score on train set:',ada_grid_estimator.score(X_train, y_train))\n",
        "\n",
        "  #Check recall score on evaluation set\n",
        "  print('Score on eval set:',ada_grid_estimator.score(X_eval, y_eval))\n",
        "\n",
        "  #Classification Report\n",
        "  y_pred = ada_grid_estimator.predict(X_eval)\n",
        "  print('Classification Report on eval set:\\n',classification_report(y_pred, y_eval))\n",
        "\n",
        "  #Predict on test set\n",
        "  Predicted = ada_grid_estimator.predict(X_test)\n",
        "  submission=pd.DataFrame({'INCIDENT_ID': test['INCIDENT_ID'],'MULTIPLE_OFFENSE': Predicted})\n",
        "  submission.to_csv('submission_AdaBoost.csv', columns=['INCIDENT_ID', 'MULTIPLE_OFFENSE'], index=False)\n",
        "  pass\n",
        "\n",
        "@loggg\n",
        "def XGB_Classifier(train,test):\n",
        "  #XGBoost Algorithm\n",
        "  import xgboost as xgb\n",
        "\n",
        "  #For Train\n",
        "  X,y = (train.pipe(start_pipeline).pipe(clean_dataset).pipe(prepare_dataset))\n",
        "  X_train, X_eval, y_train, y_eval = model_selection.train_test_split(X, y, test_size=0.1, random_state=1)\n",
        "  \n",
        "  #For Test\n",
        "  X_test = (test.pipe(start_pipeline).pipe(clean_dataset).pipe(prepare_dataset))\n",
        "\n",
        "  xgb_estimator = xgb.XGBClassifier()\n",
        "  xgb_grid  = {'max_depth':[1,2,3], 'n_estimators':list(range(50,150, 30)), 'learning_rate':[0.1, 0.2, 0.5, 1.0], 'reg_alpha':[0, 0.5], 'reg_lambda':[0.5, 1] }\n",
        "  xgb_grid_estimator = model_selection.GridSearchCV(xgb_estimator, xgb_grid, scoring='accuracy', cv=10)\n",
        "  xgb_grid_estimator.fit(X_train, y_train)\n",
        "\n",
        "  print('best params:',xgb_grid_estimator.best_params_)\n",
        "  print('best score:',xgb_grid_estimator.best_score_)\n",
        "  print('best estimators:',xgb_grid_estimator.best_estimator_)\n",
        "  print('Score on train set:',xgb_grid_estimator.score(X_train, y_train))\n",
        "\n",
        "  #Check recall score on evaluation set\n",
        "  print('Score on eval set:',xgb_grid_estimator.score(X_eval, y_eval))\n",
        "\n",
        "  #Classification Report\n",
        "  y_pred = xgb_grid_estimator.predict(X_eval)\n",
        "  print('Classification Report on eval set:\\n',classification_report(y_pred, y_eval))\n",
        "\n",
        "  #Predict on test set\n",
        "  Predicted = xgb_grid_estimator.predict(X_test)\n",
        "  submission=pd.DataFrame({'INCIDENT_ID': test['INCIDENT_ID'],'MULTIPLE_OFFENSE': Predicted})\n",
        "  submission.to_csv('submission_XGB.csv', columns=['INCIDENT_ID', 'MULTIPLE_OFFENSE'], index=False)\n",
        "  pass\n"
      ],
      "execution_count": 0,
      "outputs": []
    },
    {
      "cell_type": "markdown",
      "metadata": {
        "id": "pJ-vEPM-7fkF",
        "colab_type": "text"
      },
      "source": [
        "Tried KNN initially..."
      ]
    },
    {
      "cell_type": "code",
      "metadata": {
        "id": "BRvezMTN7ZNS",
        "colab_type": "code",
        "colab": {
          "base_uri": "https://localhost:8080/",
          "height": 290
        },
        "outputId": "9f5a4d51-4293-400b-d4fb-57412da29a33"
      },
      "source": [
        "KNN_Classifier(train,test)"
      ],
      "execution_count": 107,
      "outputs": [
        {
          "output_type": "stream",
          "text": [
            "best params: {'n_neighbors': 5}\n",
            "best score on train set: 0.9595249184909175\n",
            "Score on train set: 0.9658593386120168\n",
            "Score on eval set: 0.9572506286672254\n",
            "Classification Report on eval set:\n",
            "               precision    recall  f1-score   support\n",
            "\n",
            "           0       0.15      0.77      0.25        22\n",
            "           1       1.00      0.96      0.98      2364\n",
            "\n",
            "    accuracy                           0.96      2386\n",
            "   macro avg       0.57      0.87      0.61      2386\n",
            "weighted avg       0.99      0.96      0.97      2386\n",
            "\n",
            "KNN_Classifier took 0:02:34.418505\n"
          ],
          "name": "stdout"
        }
      ]
    },
    {
      "cell_type": "markdown",
      "metadata": {
        "id": "k_widzuI8CD6",
        "colab_type": "text"
      },
      "source": [
        "As we see from the classification report above, the KNN model does not seem to perform well\n",
        "\n",
        "---\n",
        "\n",
        "Next tried Decision Tree..."
      ]
    },
    {
      "cell_type": "code",
      "metadata": {
        "id": "vcXKJXJR685_",
        "colab_type": "code",
        "colab": {
          "base_uri": "https://localhost:8080/",
          "height": 1000
        },
        "outputId": "a36eeb33-9de3-4483-c833-c3450d300154"
      },
      "source": [
        "DT_Classifier(train,test)"
      ],
      "execution_count": 108,
      "outputs": [
        {
          "output_type": "stream",
          "text": [
            "CV results: {'mean_fit_time': array([0.03176541, 0.03032432, 0.0305927 , 0.03315012, 0.03229516,\n",
            "       0.03261991, 0.0352735 , 0.03317802, 0.03502166, 0.03439486,\n",
            "       0.03417187, 0.03506854, 0.03551848, 0.035427  , 0.03552351,\n",
            "       0.03591526, 0.03638222, 0.03564787, 0.03643601, 0.03694677,\n",
            "       0.03611076, 0.03138134, 0.03205185, 0.03114445, 0.03393497,\n",
            "       0.03361878, 0.03395178, 0.03414674, 0.03367431, 0.03375802,\n",
            "       0.03523419, 0.03466835, 0.03492923, 0.03600879, 0.0363255 ,\n",
            "       0.03715439, 0.03588228, 0.03613131, 0.03644006, 0.03618212,\n",
            "       0.03587451, 0.03634002]), 'std_fit_time': array([0.00366016, 0.00033124, 0.00055336, 0.0015928 , 0.00041506,\n",
            "       0.00160114, 0.00344211, 0.00045015, 0.0025276 , 0.00048564,\n",
            "       0.0004466 , 0.00140342, 0.0004473 , 0.00049533, 0.0009025 ,\n",
            "       0.00186929, 0.00167861, 0.00050737, 0.00123713, 0.0016738 ,\n",
            "       0.00051176, 0.0004599 , 0.00107547, 0.00045577, 0.00124542,\n",
            "       0.00051014, 0.00316917, 0.00143776, 0.00040469, 0.00042541,\n",
            "       0.00144247, 0.00035633, 0.00025236, 0.00148665, 0.00290649,\n",
            "       0.00252649, 0.00028697, 0.0005217 , 0.00161801, 0.00045207,\n",
            "       0.00054311, 0.00095363]), 'mean_score_time': array([0.00190086, 0.00191357, 0.00189915, 0.00199676, 0.00190685,\n",
            "       0.00200102, 0.00197513, 0.00189955, 0.00202224, 0.00191724,\n",
            "       0.00193708, 0.00195112, 0.0020349 , 0.00193789, 0.00207989,\n",
            "       0.00199757, 0.0019959 , 0.00192258, 0.00195038, 0.00203347,\n",
            "       0.00192037, 0.00192511, 0.00201118, 0.00202594, 0.00205135,\n",
            "       0.00196822, 0.00192358, 0.00189099, 0.00188918, 0.00192962,\n",
            "       0.0019352 , 0.00188503, 0.00195255, 0.00190558, 0.00197766,\n",
            "       0.00193417, 0.00192516, 0.00196016, 0.00189021, 0.00190957,\n",
            "       0.00187695, 0.00199475]), 'std_score_time': array([1.07652618e-04, 1.38793792e-04, 3.79087340e-05, 1.03933602e-04,\n",
            "       7.50898511e-05, 1.10052139e-04, 2.72886120e-04, 4.65267061e-05,\n",
            "       1.24436659e-04, 4.27162333e-05, 5.35428945e-05, 1.62475508e-04,\n",
            "       2.47303767e-04, 5.34174100e-05, 3.05771248e-04, 2.03265177e-04,\n",
            "       9.98202643e-05, 4.20333307e-05, 2.52722007e-05, 2.40848650e-04,\n",
            "       6.97973964e-05, 6.16058338e-05, 2.43189504e-04, 3.13794252e-04,\n",
            "       3.03299058e-04, 1.00396025e-04, 7.53990567e-05, 4.23414481e-05,\n",
            "       4.64697077e-05, 5.89277166e-05, 5.60736777e-05, 4.75054269e-05,\n",
            "       7.26247569e-05, 3.37638422e-05, 2.49915296e-04, 6.11034073e-05,\n",
            "       4.25151938e-05, 7.13907601e-05, 4.53528855e-05, 3.74689115e-05,\n",
            "       2.11884913e-05, 2.65031013e-04]), 'param_criterion': masked_array(data=['gini', 'gini', 'gini', 'gini', 'gini', 'gini', 'gini',\n",
            "                   'gini', 'gini', 'gini', 'gini', 'gini', 'gini', 'gini',\n",
            "                   'gini', 'gini', 'gini', 'gini', 'gini', 'gini', 'gini',\n",
            "                   'entropy', 'entropy', 'entropy', 'entropy', 'entropy',\n",
            "                   'entropy', 'entropy', 'entropy', 'entropy', 'entropy',\n",
            "                   'entropy', 'entropy', 'entropy', 'entropy', 'entropy',\n",
            "                   'entropy', 'entropy', 'entropy', 'entropy', 'entropy',\n",
            "                   'entropy'],\n",
            "             mask=[False, False, False, False, False, False, False, False,\n",
            "                   False, False, False, False, False, False, False, False,\n",
            "                   False, False, False, False, False, False, False, False,\n",
            "                   False, False, False, False, False, False, False, False,\n",
            "                   False, False, False, False, False, False, False, False,\n",
            "                   False, False],\n",
            "       fill_value='?',\n",
            "            dtype=object), 'param_max_depth': masked_array(data=[3, 3, 3, 4, 4, 4, 5, 5, 5, 6, 6, 6, 7, 7, 7, 8, 8, 8,\n",
            "                   9, 9, 9, 3, 3, 3, 4, 4, 4, 5, 5, 5, 6, 6, 6, 7, 7, 7,\n",
            "                   8, 8, 8, 9, 9, 9],\n",
            "             mask=[False, False, False, False, False, False, False, False,\n",
            "                   False, False, False, False, False, False, False, False,\n",
            "                   False, False, False, False, False, False, False, False,\n",
            "                   False, False, False, False, False, False, False, False,\n",
            "                   False, False, False, False, False, False, False, False,\n",
            "                   False, False],\n",
            "       fill_value='?',\n",
            "            dtype=object), 'param_min_samples_split': masked_array(data=[3, 5, 10, 3, 5, 10, 3, 5, 10, 3, 5, 10, 3, 5, 10, 3, 5,\n",
            "                   10, 3, 5, 10, 3, 5, 10, 3, 5, 10, 3, 5, 10, 3, 5, 10,\n",
            "                   3, 5, 10, 3, 5, 10, 3, 5, 10],\n",
            "             mask=[False, False, False, False, False, False, False, False,\n",
            "                   False, False, False, False, False, False, False, False,\n",
            "                   False, False, False, False, False, False, False, False,\n",
            "                   False, False, False, False, False, False, False, False,\n",
            "                   False, False, False, False, False, False, False, False,\n",
            "                   False, False],\n",
            "       fill_value='?',\n",
            "            dtype=object), 'params': [{'criterion': 'gini', 'max_depth': 3, 'min_samples_split': 3}, {'criterion': 'gini', 'max_depth': 3, 'min_samples_split': 5}, {'criterion': 'gini', 'max_depth': 3, 'min_samples_split': 10}, {'criterion': 'gini', 'max_depth': 4, 'min_samples_split': 3}, {'criterion': 'gini', 'max_depth': 4, 'min_samples_split': 5}, {'criterion': 'gini', 'max_depth': 4, 'min_samples_split': 10}, {'criterion': 'gini', 'max_depth': 5, 'min_samples_split': 3}, {'criterion': 'gini', 'max_depth': 5, 'min_samples_split': 5}, {'criterion': 'gini', 'max_depth': 5, 'min_samples_split': 10}, {'criterion': 'gini', 'max_depth': 6, 'min_samples_split': 3}, {'criterion': 'gini', 'max_depth': 6, 'min_samples_split': 5}, {'criterion': 'gini', 'max_depth': 6, 'min_samples_split': 10}, {'criterion': 'gini', 'max_depth': 7, 'min_samples_split': 3}, {'criterion': 'gini', 'max_depth': 7, 'min_samples_split': 5}, {'criterion': 'gini', 'max_depth': 7, 'min_samples_split': 10}, {'criterion': 'gini', 'max_depth': 8, 'min_samples_split': 3}, {'criterion': 'gini', 'max_depth': 8, 'min_samples_split': 5}, {'criterion': 'gini', 'max_depth': 8, 'min_samples_split': 10}, {'criterion': 'gini', 'max_depth': 9, 'min_samples_split': 3}, {'criterion': 'gini', 'max_depth': 9, 'min_samples_split': 5}, {'criterion': 'gini', 'max_depth': 9, 'min_samples_split': 10}, {'criterion': 'entropy', 'max_depth': 3, 'min_samples_split': 3}, {'criterion': 'entropy', 'max_depth': 3, 'min_samples_split': 5}, {'criterion': 'entropy', 'max_depth': 3, 'min_samples_split': 10}, {'criterion': 'entropy', 'max_depth': 4, 'min_samples_split': 3}, {'criterion': 'entropy', 'max_depth': 4, 'min_samples_split': 5}, {'criterion': 'entropy', 'max_depth': 4, 'min_samples_split': 10}, {'criterion': 'entropy', 'max_depth': 5, 'min_samples_split': 3}, {'criterion': 'entropy', 'max_depth': 5, 'min_samples_split': 5}, {'criterion': 'entropy', 'max_depth': 5, 'min_samples_split': 10}, {'criterion': 'entropy', 'max_depth': 6, 'min_samples_split': 3}, {'criterion': 'entropy', 'max_depth': 6, 'min_samples_split': 5}, {'criterion': 'entropy', 'max_depth': 6, 'min_samples_split': 10}, {'criterion': 'entropy', 'max_depth': 7, 'min_samples_split': 3}, {'criterion': 'entropy', 'max_depth': 7, 'min_samples_split': 5}, {'criterion': 'entropy', 'max_depth': 7, 'min_samples_split': 10}, {'criterion': 'entropy', 'max_depth': 8, 'min_samples_split': 3}, {'criterion': 'entropy', 'max_depth': 8, 'min_samples_split': 5}, {'criterion': 'entropy', 'max_depth': 8, 'min_samples_split': 10}, {'criterion': 'entropy', 'max_depth': 9, 'min_samples_split': 3}, {'criterion': 'entropy', 'max_depth': 9, 'min_samples_split': 5}, {'criterion': 'entropy', 'max_depth': 9, 'min_samples_split': 10}], 'split0_test_score': array([0.97065673, 0.97065673, 0.97065673, 0.98230088, 0.98276665,\n",
            "       0.98230088, 0.98509548, 0.98509548, 0.98509548, 0.99301351,\n",
            "       0.99301351, 0.99301351, 0.99767117, 0.99767117, 0.99767117,\n",
            "       0.99906847, 0.99906847, 0.99906847, 0.99813694, 0.9986027 ,\n",
            "       0.9986027 , 0.97065673, 0.97065673, 0.97065673, 0.97531439,\n",
            "       0.97531439, 0.97531439, 0.98509548, 0.98509548, 0.98509548,\n",
            "       0.99534234, 0.99534234, 0.9958081 , 0.99673964, 0.99673964,\n",
            "       0.99673964, 0.99767117, 0.99813694, 0.99813694, 0.99813694,\n",
            "       0.99813694, 0.99813694]), 'split1_test_score': array([0.97857476, 0.97857476, 0.97857476, 0.98369818, 0.98369818,\n",
            "       0.98369818, 0.98928738, 0.98928738, 0.98928738, 0.99534234,\n",
            "       0.99534234, 0.99534234, 0.9972054 , 0.9972054 , 0.9972054 ,\n",
            "       0.99813694, 0.99813694, 0.99813694, 0.99767117, 0.99767117,\n",
            "       0.99767117, 0.97857476, 0.97857476, 0.97857476, 0.97810899,\n",
            "       0.97810899, 0.97810899, 0.98882161, 0.98882161, 0.98882161,\n",
            "       0.99534234, 0.99534234, 0.99534234, 0.99813694, 0.99813694,\n",
            "       0.99813694, 0.99906847, 0.99906847, 0.99906847, 0.99906847,\n",
            "       0.99906847, 0.9986027 ]), 'split2_test_score': array([0.97810899, 0.97810899, 0.97810899, 0.98136935, 0.98136935,\n",
            "       0.98136935, 0.98323242, 0.98323242, 0.98323242, 0.99301351,\n",
            "       0.99301351, 0.99301351, 0.99347927, 0.99347927, 0.99347927,\n",
            "       0.99534234, 0.99534234, 0.99534234, 0.99673964, 0.99673964,\n",
            "       0.99673964, 0.97810899, 0.97810899, 0.97810899, 0.97904052,\n",
            "       0.97904052, 0.97904052, 0.98882161, 0.98882161, 0.98882161,\n",
            "       0.99301351, 0.99301351, 0.99301351, 0.99441081, 0.99441081,\n",
            "       0.99441081, 0.99627387, 0.99627387, 0.99627387, 0.99673964,\n",
            "       0.99673964, 0.99673964]), 'split3_test_score': array([0.97531439, 0.97531439, 0.97531439, 0.98416395, 0.98416395,\n",
            "       0.98416395, 0.98556125, 0.98556125, 0.98556125, 0.99347927,\n",
            "       0.99347927, 0.99347927, 0.99534234, 0.99534234, 0.99534234,\n",
            "       0.9986027 , 0.9986027 , 0.9986027 , 0.9986027 , 0.9986027 ,\n",
            "       0.9986027 , 0.97531439, 0.97531439, 0.97531439, 0.97857476,\n",
            "       0.97857476, 0.97857476, 0.98602701, 0.98602701, 0.98602701,\n",
            "       0.99394504, 0.99394504, 0.99394504, 0.9958081 , 0.9958081 ,\n",
            "       0.9958081 , 0.9986027 , 0.9986027 , 0.9986027 , 0.9986027 ,\n",
            "       0.9986027 , 0.9986027 ]), 'split4_test_score': array([0.98136935, 0.98136935, 0.98136935, 0.98742431, 0.98742431,\n",
            "       0.98742431, 0.99021891, 0.99021891, 0.99021891, 0.99441081,\n",
            "       0.99441081, 0.99441081, 0.9972054 , 0.9972054 , 0.9972054 ,\n",
            "       0.99767117, 0.99767117, 0.99813694, 0.99813694, 0.99813694,\n",
            "       0.9986027 , 0.98136935, 0.98136935, 0.98136935, 0.98183512,\n",
            "       0.98183512, 0.98183512, 0.98928738, 0.98928738, 0.98928738,\n",
            "       0.99534234, 0.99534234, 0.99534234, 0.9972054 , 0.9972054 ,\n",
            "       0.9972054 , 0.99813694, 0.99813694, 0.9986027 , 0.99813694,\n",
            "       0.99813694, 0.9986027 ]), 'split5_test_score': array([0.97997205, 0.97997205, 0.97997205, 0.98602701, 0.98602701,\n",
            "       0.98602701, 0.99208197, 0.99208197, 0.99208197, 0.99673964,\n",
            "       0.99673964, 0.99673964, 0.99813694, 0.99813694, 0.99813694,\n",
            "       0.9986027 , 0.9986027 , 0.9986027 , 0.99906847, 0.99906847,\n",
            "       0.99906847, 0.97997205, 0.97997205, 0.97997205, 0.98183512,\n",
            "       0.98183512, 0.98183512, 0.99301351, 0.99301351, 0.99301351,\n",
            "       0.9972054 , 0.9972054 , 0.9972054 , 0.99813694, 0.99813694,\n",
            "       0.99813694, 0.9986027 , 0.9986027 , 0.9986027 , 0.99906847,\n",
            "       0.99906847, 0.99906847]), 'split6_test_score': array([0.97624592, 0.97624592, 0.97624592, 0.98090359, 0.98090359,\n",
            "       0.98090359, 0.98602701, 0.98602701, 0.98602701, 0.99394504,\n",
            "       0.99487657, 0.99487657, 0.99487657, 0.99534234, 0.99487657,\n",
            "       0.99627387, 0.9972054 , 0.99673964, 0.9972054 , 0.99767117,\n",
            "       0.9986027 , 0.97624592, 0.97624592, 0.97624592, 0.97764322,\n",
            "       0.97764322, 0.97764322, 0.99068468, 0.99068468, 0.99068468,\n",
            "       0.99487657, 0.99487657, 0.99487657, 0.99627387, 0.99627387,\n",
            "       0.99627387, 0.99673964, 0.99767117, 0.99813694, 0.99813694,\n",
            "       0.99813694, 0.9986027 ]), 'split7_test_score': array([0.97624592, 0.97624592, 0.97624592, 0.97717746, 0.97717746,\n",
            "       0.97717746, 0.98276665, 0.98276665, 0.98276665, 0.99254774,\n",
            "       0.99254774, 0.99254774, 0.9958081 , 0.9958081 , 0.9958081 ,\n",
            "       0.99673964, 0.99673964, 0.99673964, 0.99767117, 0.99673964,\n",
            "       0.99673964, 0.97624592, 0.97624592, 0.97624592, 0.97391709,\n",
            "       0.97391709, 0.97391709, 0.98509548, 0.98509548, 0.98509548,\n",
            "       0.99068468, 0.99068468, 0.99068468, 0.99487657, 0.99487657,\n",
            "       0.99487657, 0.9958081 , 0.9958081 , 0.9958081 , 0.99813694,\n",
            "       0.99813694, 0.99813694]), 'split8_test_score': array([0.97904052, 0.97904052, 0.97904052, 0.98695855, 0.98695855,\n",
            "       0.98695855, 0.98882161, 0.98882161, 0.98882161, 0.99627387,\n",
            "       0.99627387, 0.99627387, 0.99813694, 0.99813694, 0.99813694,\n",
            "       0.99906847, 0.99953423, 0.99953423, 0.99953423, 0.99953423,\n",
            "       0.99953423, 0.97904052, 0.97904052, 0.97904052, 0.98090359,\n",
            "       0.98090359, 0.98090359, 0.98928738, 0.98928738, 0.98928738,\n",
            "       0.99627387, 0.99627387, 0.99627387, 0.99813694, 0.99813694,\n",
            "       0.99813694, 0.99953423, 0.99953423, 0.99953423, 0.99953423,\n",
            "       1.        , 0.99953423]), 'split9_test_score': array([0.98043782, 0.98043782, 0.98043782, 0.98789008, 0.98789008,\n",
            "       0.98789008, 0.99254774, 0.99301351, 0.99301351, 0.99441081,\n",
            "       0.99394504, 0.99394504, 0.99673964, 0.99627387, 0.99627387,\n",
            "       0.9986027 , 0.99813694, 0.99813694, 0.9986027 , 0.99813694,\n",
            "       0.99813694, 0.98043782, 0.98043782, 0.98043782, 0.98276665,\n",
            "       0.98276665, 0.98276665, 0.98835585, 0.98835585, 0.98835585,\n",
            "       0.99394504, 0.99394504, 0.99394504, 0.99627387, 0.99627387,\n",
            "       0.99627387, 0.9986027 , 0.99813694, 0.99813694, 0.9986027 ,\n",
            "       0.99813694, 0.99813694]), 'mean_test_score': array([0.97759665, 0.97759665, 0.97759665, 0.98379134, 0.98383791,\n",
            "       0.98379134, 0.98756404, 0.98761062, 0.98761062, 0.99431765,\n",
            "       0.99436423, 0.99436423, 0.99646018, 0.99646018, 0.9964136 ,\n",
            "       0.9978109 , 0.99790405, 0.99790405, 0.99813694, 0.99809036,\n",
            "       0.99823009, 0.97759665, 0.97759665, 0.97759665, 0.97899395,\n",
            "       0.97899395, 0.97899395, 0.988449  , 0.988449  , 0.988449  ,\n",
            "       0.99459711, 0.99459711, 0.99464369, 0.99659991, 0.99659991,\n",
            "       0.99659991, 0.99790405, 0.99799721, 0.99809036, 0.99841639,\n",
            "       0.99841639, 0.99841639]), 'std_test_score': array([0.00297106, 0.00297106, 0.00297106, 0.00324569, 0.00322726,\n",
            "       0.00324569, 0.00333308, 0.00340488, 0.00340488, 0.0013467 ,\n",
            "       0.00135713, 0.00135713, 0.00146105, 0.00141581, 0.00145882,\n",
            "       0.00121546, 0.00116442, 0.0012011 , 0.00080673, 0.00087012,\n",
            "       0.00087881, 0.00297106, 0.00297106, 0.00297106, 0.00275905,\n",
            "       0.00275905, 0.00275905, 0.00236396, 0.00236396, 0.00236396,\n",
            "       0.00173275, 0.00173275, 0.00175823, 0.00126788, 0.00126788,\n",
            "       0.00126788, 0.0011829 , 0.00110319, 0.00111103, 0.00072755,\n",
            "       0.00081209, 0.00069709]), 'rank_test_score': array([37, 37, 37, 32, 31, 32, 30, 28, 28, 24, 22, 22, 16, 16, 18, 12,  9,\n",
            "        9,  5,  6,  4, 37, 37, 37, 34, 34, 34, 25, 25, 25, 20, 20, 19, 13,\n",
            "       13, 13,  9,  8,  6,  1,  1,  1], dtype=int32)}\n",
            "best params: {'criterion': 'entropy', 'max_depth': 9, 'min_samples_split': 3}\n",
            "best score on train set: 0.9984163949697253\n",
            "best estimator: DecisionTreeClassifier(ccp_alpha=0.0, class_weight=None, criterion='entropy',\n",
            "                       max_depth=9, max_features=None, max_leaf_nodes=None,\n",
            "                       min_impurity_decrease=0.0, min_impurity_split=None,\n",
            "                       min_samples_leaf=1, min_samples_split=3,\n",
            "                       min_weight_fraction_leaf=0.0, presort='deprecated',\n",
            "                       random_state=None, splitter='best')\n",
            "Score on train set: 0.9994876571960876\n",
            "Score on eval set: 0.9991617770326907\n",
            "Classification Report on eval set:\n",
            "               precision    recall  f1-score   support\n",
            "\n",
            "           0       0.98      1.00      0.99       112\n",
            "           1       1.00      1.00      1.00      2274\n",
            "\n",
            "    accuracy                           1.00      2386\n",
            "   macro avg       0.99      1.00      1.00      2386\n",
            "weighted avg       1.00      1.00      1.00      2386\n",
            "\n",
            "DT_Classifier took 0:00:18.459629\n"
          ],
          "name": "stdout"
        }
      ]
    },
    {
      "cell_type": "markdown",
      "metadata": {
        "id": "FQTiyCTw8D1q",
        "colab_type": "text"
      },
      "source": [
        "\n",
        "The classification report is good. \n",
        "On submission of test prediction to HackerRank, I got a score of 98.58. \n",
        "Need to try some other model for better score\n",
        "\n",
        "---\n",
        "\n",
        "Next I Tried Random Forrest..."
      ]
    },
    {
      "cell_type": "code",
      "metadata": {
        "id": "VSidHZ6L7B_0",
        "colab_type": "code",
        "colab": {
          "base_uri": "https://localhost:8080/",
          "height": 1000
        },
        "outputId": "4f58fe7a-b04d-4215-da7c-59856b232b6a"
      },
      "source": [
        "RandomForrest_Classifier(train,test)"
      ],
      "execution_count": 109,
      "outputs": [
        {
          "output_type": "stream",
          "text": [
            "best params: {'max_depth': 6, 'max_features': 4, 'n_estimators': 30}\n",
            "best score: 0.9795994410805775\n",
            "best estimator: RandomForestClassifier(bootstrap=True, ccp_alpha=0.0, class_weight=None,\n",
            "                       criterion='gini', max_depth=6, max_features=4,\n",
            "                       max_leaf_nodes=None, max_samples=None,\n",
            "                       min_impurity_decrease=0.0, min_impurity_split=None,\n",
            "                       min_samples_leaf=1, min_samples_split=2,\n",
            "                       min_weight_fraction_leaf=0.0, n_estimators=30,\n",
            "                       n_jobs=None, oob_score=False, random_state=None,\n",
            "                       verbose=0, warm_start=False)\n",
            "estimator of best estimator in the RF ensemble: [DecisionTreeClassifier(ccp_alpha=0.0, class_weight=None, criterion='gini',\n",
            "                       max_depth=6, max_features=4, max_leaf_nodes=None,\n",
            "                       min_impurity_decrease=0.0, min_impurity_split=None,\n",
            "                       min_samples_leaf=1, min_samples_split=2,\n",
            "                       min_weight_fraction_leaf=0.0, presort='deprecated',\n",
            "                       random_state=847585065, splitter='best'), DecisionTreeClassifier(ccp_alpha=0.0, class_weight=None, criterion='gini',\n",
            "                       max_depth=6, max_features=4, max_leaf_nodes=None,\n",
            "                       min_impurity_decrease=0.0, min_impurity_split=None,\n",
            "                       min_samples_leaf=1, min_samples_split=2,\n",
            "                       min_weight_fraction_leaf=0.0, presort='deprecated',\n",
            "                       random_state=27635527, splitter='best'), DecisionTreeClassifier(ccp_alpha=0.0, class_weight=None, criterion='gini',\n",
            "                       max_depth=6, max_features=4, max_leaf_nodes=None,\n",
            "                       min_impurity_decrease=0.0, min_impurity_split=None,\n",
            "                       min_samples_leaf=1, min_samples_split=2,\n",
            "                       min_weight_fraction_leaf=0.0, presort='deprecated',\n",
            "                       random_state=1521929736, splitter='best'), DecisionTreeClassifier(ccp_alpha=0.0, class_weight=None, criterion='gini',\n",
            "                       max_depth=6, max_features=4, max_leaf_nodes=None,\n",
            "                       min_impurity_decrease=0.0, min_impurity_split=None,\n",
            "                       min_samples_leaf=1, min_samples_split=2,\n",
            "                       min_weight_fraction_leaf=0.0, presort='deprecated',\n",
            "                       random_state=1461338240, splitter='best'), DecisionTreeClassifier(ccp_alpha=0.0, class_weight=None, criterion='gini',\n",
            "                       max_depth=6, max_features=4, max_leaf_nodes=None,\n",
            "                       min_impurity_decrease=0.0, min_impurity_split=None,\n",
            "                       min_samples_leaf=1, min_samples_split=2,\n",
            "                       min_weight_fraction_leaf=0.0, presort='deprecated',\n",
            "                       random_state=707040498, splitter='best'), DecisionTreeClassifier(ccp_alpha=0.0, class_weight=None, criterion='gini',\n",
            "                       max_depth=6, max_features=4, max_leaf_nodes=None,\n",
            "                       min_impurity_decrease=0.0, min_impurity_split=None,\n",
            "                       min_samples_leaf=1, min_samples_split=2,\n",
            "                       min_weight_fraction_leaf=0.0, presort='deprecated',\n",
            "                       random_state=377000452, splitter='best'), DecisionTreeClassifier(ccp_alpha=0.0, class_weight=None, criterion='gini',\n",
            "                       max_depth=6, max_features=4, max_leaf_nodes=None,\n",
            "                       min_impurity_decrease=0.0, min_impurity_split=None,\n",
            "                       min_samples_leaf=1, min_samples_split=2,\n",
            "                       min_weight_fraction_leaf=0.0, presort='deprecated',\n",
            "                       random_state=1315571726, splitter='best'), DecisionTreeClassifier(ccp_alpha=0.0, class_weight=None, criterion='gini',\n",
            "                       max_depth=6, max_features=4, max_leaf_nodes=None,\n",
            "                       min_impurity_decrease=0.0, min_impurity_split=None,\n",
            "                       min_samples_leaf=1, min_samples_split=2,\n",
            "                       min_weight_fraction_leaf=0.0, presort='deprecated',\n",
            "                       random_state=2001519108, splitter='best'), DecisionTreeClassifier(ccp_alpha=0.0, class_weight=None, criterion='gini',\n",
            "                       max_depth=6, max_features=4, max_leaf_nodes=None,\n",
            "                       min_impurity_decrease=0.0, min_impurity_split=None,\n",
            "                       min_samples_leaf=1, min_samples_split=2,\n",
            "                       min_weight_fraction_leaf=0.0, presort='deprecated',\n",
            "                       random_state=306932775, splitter='best'), DecisionTreeClassifier(ccp_alpha=0.0, class_weight=None, criterion='gini',\n",
            "                       max_depth=6, max_features=4, max_leaf_nodes=None,\n",
            "                       min_impurity_decrease=0.0, min_impurity_split=None,\n",
            "                       min_samples_leaf=1, min_samples_split=2,\n",
            "                       min_weight_fraction_leaf=0.0, presort='deprecated',\n",
            "                       random_state=715290041, splitter='best'), DecisionTreeClassifier(ccp_alpha=0.0, class_weight=None, criterion='gini',\n",
            "                       max_depth=6, max_features=4, max_leaf_nodes=None,\n",
            "                       min_impurity_decrease=0.0, min_impurity_split=None,\n",
            "                       min_samples_leaf=1, min_samples_split=2,\n",
            "                       min_weight_fraction_leaf=0.0, presort='deprecated',\n",
            "                       random_state=537415146, splitter='best'), DecisionTreeClassifier(ccp_alpha=0.0, class_weight=None, criterion='gini',\n",
            "                       max_depth=6, max_features=4, max_leaf_nodes=None,\n",
            "                       min_impurity_decrease=0.0, min_impurity_split=None,\n",
            "                       min_samples_leaf=1, min_samples_split=2,\n",
            "                       min_weight_fraction_leaf=0.0, presort='deprecated',\n",
            "                       random_state=776030380, splitter='best'), DecisionTreeClassifier(ccp_alpha=0.0, class_weight=None, criterion='gini',\n",
            "                       max_depth=6, max_features=4, max_leaf_nodes=None,\n",
            "                       min_impurity_decrease=0.0, min_impurity_split=None,\n",
            "                       min_samples_leaf=1, min_samples_split=2,\n",
            "                       min_weight_fraction_leaf=0.0, presort='deprecated',\n",
            "                       random_state=539191429, splitter='best'), DecisionTreeClassifier(ccp_alpha=0.0, class_weight=None, criterion='gini',\n",
            "                       max_depth=6, max_features=4, max_leaf_nodes=None,\n",
            "                       min_impurity_decrease=0.0, min_impurity_split=None,\n",
            "                       min_samples_leaf=1, min_samples_split=2,\n",
            "                       min_weight_fraction_leaf=0.0, presort='deprecated',\n",
            "                       random_state=570853310, splitter='best'), DecisionTreeClassifier(ccp_alpha=0.0, class_weight=None, criterion='gini',\n",
            "                       max_depth=6, max_features=4, max_leaf_nodes=None,\n",
            "                       min_impurity_decrease=0.0, min_impurity_split=None,\n",
            "                       min_samples_leaf=1, min_samples_split=2,\n",
            "                       min_weight_fraction_leaf=0.0, presort='deprecated',\n",
            "                       random_state=68696532, splitter='best'), DecisionTreeClassifier(ccp_alpha=0.0, class_weight=None, criterion='gini',\n",
            "                       max_depth=6, max_features=4, max_leaf_nodes=None,\n",
            "                       min_impurity_decrease=0.0, min_impurity_split=None,\n",
            "                       min_samples_leaf=1, min_samples_split=2,\n",
            "                       min_weight_fraction_leaf=0.0, presort='deprecated',\n",
            "                       random_state=2126226981, splitter='best'), DecisionTreeClassifier(ccp_alpha=0.0, class_weight=None, criterion='gini',\n",
            "                       max_depth=6, max_features=4, max_leaf_nodes=None,\n",
            "                       min_impurity_decrease=0.0, min_impurity_split=None,\n",
            "                       min_samples_leaf=1, min_samples_split=2,\n",
            "                       min_weight_fraction_leaf=0.0, presort='deprecated',\n",
            "                       random_state=1938404873, splitter='best'), DecisionTreeClassifier(ccp_alpha=0.0, class_weight=None, criterion='gini',\n",
            "                       max_depth=6, max_features=4, max_leaf_nodes=None,\n",
            "                       min_impurity_decrease=0.0, min_impurity_split=None,\n",
            "                       min_samples_leaf=1, min_samples_split=2,\n",
            "                       min_weight_fraction_leaf=0.0, presort='deprecated',\n",
            "                       random_state=52849810, splitter='best'), DecisionTreeClassifier(ccp_alpha=0.0, class_weight=None, criterion='gini',\n",
            "                       max_depth=6, max_features=4, max_leaf_nodes=None,\n",
            "                       min_impurity_decrease=0.0, min_impurity_split=None,\n",
            "                       min_samples_leaf=1, min_samples_split=2,\n",
            "                       min_weight_fraction_leaf=0.0, presort='deprecated',\n",
            "                       random_state=634483520, splitter='best'), DecisionTreeClassifier(ccp_alpha=0.0, class_weight=None, criterion='gini',\n",
            "                       max_depth=6, max_features=4, max_leaf_nodes=None,\n",
            "                       min_impurity_decrease=0.0, min_impurity_split=None,\n",
            "                       min_samples_leaf=1, min_samples_split=2,\n",
            "                       min_weight_fraction_leaf=0.0, presort='deprecated',\n",
            "                       random_state=1769918841, splitter='best'), DecisionTreeClassifier(ccp_alpha=0.0, class_weight=None, criterion='gini',\n",
            "                       max_depth=6, max_features=4, max_leaf_nodes=None,\n",
            "                       min_impurity_decrease=0.0, min_impurity_split=None,\n",
            "                       min_samples_leaf=1, min_samples_split=2,\n",
            "                       min_weight_fraction_leaf=0.0, presort='deprecated',\n",
            "                       random_state=1963989414, splitter='best'), DecisionTreeClassifier(ccp_alpha=0.0, class_weight=None, criterion='gini',\n",
            "                       max_depth=6, max_features=4, max_leaf_nodes=None,\n",
            "                       min_impurity_decrease=0.0, min_impurity_split=None,\n",
            "                       min_samples_leaf=1, min_samples_split=2,\n",
            "                       min_weight_fraction_leaf=0.0, presort='deprecated',\n",
            "                       random_state=1045134348, splitter='best'), DecisionTreeClassifier(ccp_alpha=0.0, class_weight=None, criterion='gini',\n",
            "                       max_depth=6, max_features=4, max_leaf_nodes=None,\n",
            "                       min_impurity_decrease=0.0, min_impurity_split=None,\n",
            "                       min_samples_leaf=1, min_samples_split=2,\n",
            "                       min_weight_fraction_leaf=0.0, presort='deprecated',\n",
            "                       random_state=1477153630, splitter='best'), DecisionTreeClassifier(ccp_alpha=0.0, class_weight=None, criterion='gini',\n",
            "                       max_depth=6, max_features=4, max_leaf_nodes=None,\n",
            "                       min_impurity_decrease=0.0, min_impurity_split=None,\n",
            "                       min_samples_leaf=1, min_samples_split=2,\n",
            "                       min_weight_fraction_leaf=0.0, presort='deprecated',\n",
            "                       random_state=357422097, splitter='best'), DecisionTreeClassifier(ccp_alpha=0.0, class_weight=None, criterion='gini',\n",
            "                       max_depth=6, max_features=4, max_leaf_nodes=None,\n",
            "                       min_impurity_decrease=0.0, min_impurity_split=None,\n",
            "                       min_samples_leaf=1, min_samples_split=2,\n",
            "                       min_weight_fraction_leaf=0.0, presort='deprecated',\n",
            "                       random_state=126789099, splitter='best'), DecisionTreeClassifier(ccp_alpha=0.0, class_weight=None, criterion='gini',\n",
            "                       max_depth=6, max_features=4, max_leaf_nodes=None,\n",
            "                       min_impurity_decrease=0.0, min_impurity_split=None,\n",
            "                       min_samples_leaf=1, min_samples_split=2,\n",
            "                       min_weight_fraction_leaf=0.0, presort='deprecated',\n",
            "                       random_state=1650174587, splitter='best'), DecisionTreeClassifier(ccp_alpha=0.0, class_weight=None, criterion='gini',\n",
            "                       max_depth=6, max_features=4, max_leaf_nodes=None,\n",
            "                       min_impurity_decrease=0.0, min_impurity_split=None,\n",
            "                       min_samples_leaf=1, min_samples_split=2,\n",
            "                       min_weight_fraction_leaf=0.0, presort='deprecated',\n",
            "                       random_state=2084384543, splitter='best'), DecisionTreeClassifier(ccp_alpha=0.0, class_weight=None, criterion='gini',\n",
            "                       max_depth=6, max_features=4, max_leaf_nodes=None,\n",
            "                       min_impurity_decrease=0.0, min_impurity_split=None,\n",
            "                       min_samples_leaf=1, min_samples_split=2,\n",
            "                       min_weight_fraction_leaf=0.0, presort='deprecated',\n",
            "                       random_state=916939870, splitter='best'), DecisionTreeClassifier(ccp_alpha=0.0, class_weight=None, criterion='gini',\n",
            "                       max_depth=6, max_features=4, max_leaf_nodes=None,\n",
            "                       min_impurity_decrease=0.0, min_impurity_split=None,\n",
            "                       min_samples_leaf=1, min_samples_split=2,\n",
            "                       min_weight_fraction_leaf=0.0, presort='deprecated',\n",
            "                       random_state=1363692721, splitter='best'), DecisionTreeClassifier(ccp_alpha=0.0, class_weight=None, criterion='gini',\n",
            "                       max_depth=6, max_features=4, max_leaf_nodes=None,\n",
            "                       min_impurity_decrease=0.0, min_impurity_split=None,\n",
            "                       min_samples_leaf=1, min_samples_split=2,\n",
            "                       min_weight_fraction_leaf=0.0, presort='deprecated',\n",
            "                       random_state=481045444, splitter='best')]\n",
            "Score on train set: 0.9776432231020028\n",
            "Score on eval set: 0.9752724224643755\n",
            "Classification Report on eval set:\n",
            "               precision    recall  f1-score   support\n",
            "\n",
            "           0       0.48      1.00      0.65        55\n",
            "           1       1.00      0.97      0.99      2331\n",
            "\n",
            "    accuracy                           0.98      2386\n",
            "   macro avg       0.74      0.99      0.82      2386\n",
            "weighted avg       0.99      0.98      0.98      2386\n",
            "\n",
            "RandomForrest_Classifier took 0:01:40.168125\n"
          ],
          "name": "stdout"
        }
      ]
    },
    {
      "cell_type": "markdown",
      "metadata": {
        "id": "498BG1c-8Iw1",
        "colab_type": "text"
      },
      "source": [
        "The Classification report for Random Forrest is not better here. \n",
        "It has performed worse than Decision Tree Model.\n",
        "So lets try some more models\n",
        "\n",
        "---\n",
        "\n",
        "Next I Tried AdaBoost..."
      ]
    },
    {
      "cell_type": "code",
      "metadata": {
        "id": "Tk0MsLd07JvW",
        "colab_type": "code",
        "colab": {
          "base_uri": "https://localhost:8080/",
          "height": 1000
        },
        "outputId": "d2c60bf3-a681-47b3-89e9-9ab6db478799"
      },
      "source": [
        "Adaboost_Classifier(train,test)"
      ],
      "execution_count": 110,
      "outputs": [
        {
          "output_type": "stream",
          "text": [
            "best params: {'base_estimator__max_depth': 3, 'learning_rate': 0.1, 'n_estimators': 80}\n",
            "best score: 0.9996739636702376\n",
            "best estimators: [DecisionTreeClassifier(ccp_alpha=0.0, class_weight=None, criterion='gini',\n",
            "                       max_depth=3, max_features=None, max_leaf_nodes=None,\n",
            "                       min_impurity_decrease=0.0, min_impurity_split=None,\n",
            "                       min_samples_leaf=1, min_samples_split=2,\n",
            "                       min_weight_fraction_leaf=0.0, presort='deprecated',\n",
            "                       random_state=202839899, splitter='best'), DecisionTreeClassifier(ccp_alpha=0.0, class_weight=None, criterion='gini',\n",
            "                       max_depth=3, max_features=None, max_leaf_nodes=None,\n",
            "                       min_impurity_decrease=0.0, min_impurity_split=None,\n",
            "                       min_samples_leaf=1, min_samples_split=2,\n",
            "                       min_weight_fraction_leaf=0.0, presort='deprecated',\n",
            "                       random_state=1346430100, splitter='best'), DecisionTreeClassifier(ccp_alpha=0.0, class_weight=None, criterion='gini',\n",
            "                       max_depth=3, max_features=None, max_leaf_nodes=None,\n",
            "                       min_impurity_decrease=0.0, min_impurity_split=None,\n",
            "                       min_samples_leaf=1, min_samples_split=2,\n",
            "                       min_weight_fraction_leaf=0.0, presort='deprecated',\n",
            "                       random_state=1936817626, splitter='best'), DecisionTreeClassifier(ccp_alpha=0.0, class_weight=None, criterion='gini',\n",
            "                       max_depth=3, max_features=None, max_leaf_nodes=None,\n",
            "                       min_impurity_decrease=0.0, min_impurity_split=None,\n",
            "                       min_samples_leaf=1, min_samples_split=2,\n",
            "                       min_weight_fraction_leaf=0.0, presort='deprecated',\n",
            "                       random_state=1827991022, splitter='best'), DecisionTreeClassifier(ccp_alpha=0.0, class_weight=None, criterion='gini',\n",
            "                       max_depth=3, max_features=None, max_leaf_nodes=None,\n",
            "                       min_impurity_decrease=0.0, min_impurity_split=None,\n",
            "                       min_samples_leaf=1, min_samples_split=2,\n",
            "                       min_weight_fraction_leaf=0.0, presort='deprecated',\n",
            "                       random_state=201967379, splitter='best'), DecisionTreeClassifier(ccp_alpha=0.0, class_weight=None, criterion='gini',\n",
            "                       max_depth=3, max_features=None, max_leaf_nodes=None,\n",
            "                       min_impurity_decrease=0.0, min_impurity_split=None,\n",
            "                       min_samples_leaf=1, min_samples_split=2,\n",
            "                       min_weight_fraction_leaf=0.0, presort='deprecated',\n",
            "                       random_state=580080628, splitter='best'), DecisionTreeClassifier(ccp_alpha=0.0, class_weight=None, criterion='gini',\n",
            "                       max_depth=3, max_features=None, max_leaf_nodes=None,\n",
            "                       min_impurity_decrease=0.0, min_impurity_split=None,\n",
            "                       min_samples_leaf=1, min_samples_split=2,\n",
            "                       min_weight_fraction_leaf=0.0, presort='deprecated',\n",
            "                       random_state=44740754, splitter='best'), DecisionTreeClassifier(ccp_alpha=0.0, class_weight=None, criterion='gini',\n",
            "                       max_depth=3, max_features=None, max_leaf_nodes=None,\n",
            "                       min_impurity_decrease=0.0, min_impurity_split=None,\n",
            "                       min_samples_leaf=1, min_samples_split=2,\n",
            "                       min_weight_fraction_leaf=0.0, presort='deprecated',\n",
            "                       random_state=1641680589, splitter='best'), DecisionTreeClassifier(ccp_alpha=0.0, class_weight=None, criterion='gini',\n",
            "                       max_depth=3, max_features=None, max_leaf_nodes=None,\n",
            "                       min_impurity_decrease=0.0, min_impurity_split=None,\n",
            "                       min_samples_leaf=1, min_samples_split=2,\n",
            "                       min_weight_fraction_leaf=0.0, presort='deprecated',\n",
            "                       random_state=905673324, splitter='best'), DecisionTreeClassifier(ccp_alpha=0.0, class_weight=None, criterion='gini',\n",
            "                       max_depth=3, max_features=None, max_leaf_nodes=None,\n",
            "                       min_impurity_decrease=0.0, min_impurity_split=None,\n",
            "                       min_samples_leaf=1, min_samples_split=2,\n",
            "                       min_weight_fraction_leaf=0.0, presort='deprecated',\n",
            "                       random_state=875461889, splitter='best'), DecisionTreeClassifier(ccp_alpha=0.0, class_weight=None, criterion='gini',\n",
            "                       max_depth=3, max_features=None, max_leaf_nodes=None,\n",
            "                       min_impurity_decrease=0.0, min_impurity_split=None,\n",
            "                       min_samples_leaf=1, min_samples_split=2,\n",
            "                       min_weight_fraction_leaf=0.0, presort='deprecated',\n",
            "                       random_state=1451500283, splitter='best'), DecisionTreeClassifier(ccp_alpha=0.0, class_weight=None, criterion='gini',\n",
            "                       max_depth=3, max_features=None, max_leaf_nodes=None,\n",
            "                       min_impurity_decrease=0.0, min_impurity_split=None,\n",
            "                       min_samples_leaf=1, min_samples_split=2,\n",
            "                       min_weight_fraction_leaf=0.0, presort='deprecated',\n",
            "                       random_state=488521744, splitter='best'), DecisionTreeClassifier(ccp_alpha=0.0, class_weight=None, criterion='gini',\n",
            "                       max_depth=3, max_features=None, max_leaf_nodes=None,\n",
            "                       min_impurity_decrease=0.0, min_impurity_split=None,\n",
            "                       min_samples_leaf=1, min_samples_split=2,\n",
            "                       min_weight_fraction_leaf=0.0, presort='deprecated',\n",
            "                       random_state=349696356, splitter='best'), DecisionTreeClassifier(ccp_alpha=0.0, class_weight=None, criterion='gini',\n",
            "                       max_depth=3, max_features=None, max_leaf_nodes=None,\n",
            "                       min_impurity_decrease=0.0, min_impurity_split=None,\n",
            "                       min_samples_leaf=1, min_samples_split=2,\n",
            "                       min_weight_fraction_leaf=0.0, presort='deprecated',\n",
            "                       random_state=1867694360, splitter='best'), DecisionTreeClassifier(ccp_alpha=0.0, class_weight=None, criterion='gini',\n",
            "                       max_depth=3, max_features=None, max_leaf_nodes=None,\n",
            "                       min_impurity_decrease=0.0, min_impurity_split=None,\n",
            "                       min_samples_leaf=1, min_samples_split=2,\n",
            "                       min_weight_fraction_leaf=0.0, presort='deprecated',\n",
            "                       random_state=34119936, splitter='best'), DecisionTreeClassifier(ccp_alpha=0.0, class_weight=None, criterion='gini',\n",
            "                       max_depth=3, max_features=None, max_leaf_nodes=None,\n",
            "                       min_impurity_decrease=0.0, min_impurity_split=None,\n",
            "                       min_samples_leaf=1, min_samples_split=2,\n",
            "                       min_weight_fraction_leaf=0.0, presort='deprecated',\n",
            "                       random_state=311730284, splitter='best'), DecisionTreeClassifier(ccp_alpha=0.0, class_weight=None, criterion='gini',\n",
            "                       max_depth=3, max_features=None, max_leaf_nodes=None,\n",
            "                       min_impurity_decrease=0.0, min_impurity_split=None,\n",
            "                       min_samples_leaf=1, min_samples_split=2,\n",
            "                       min_weight_fraction_leaf=0.0, presort='deprecated',\n",
            "                       random_state=2029297504, splitter='best'), DecisionTreeClassifier(ccp_alpha=0.0, class_weight=None, criterion='gini',\n",
            "                       max_depth=3, max_features=None, max_leaf_nodes=None,\n",
            "                       min_impurity_decrease=0.0, min_impurity_split=None,\n",
            "                       min_samples_leaf=1, min_samples_split=2,\n",
            "                       min_weight_fraction_leaf=0.0, presort='deprecated',\n",
            "                       random_state=1068156520, splitter='best'), DecisionTreeClassifier(ccp_alpha=0.0, class_weight=None, criterion='gini',\n",
            "                       max_depth=3, max_features=None, max_leaf_nodes=None,\n",
            "                       min_impurity_decrease=0.0, min_impurity_split=None,\n",
            "                       min_samples_leaf=1, min_samples_split=2,\n",
            "                       min_weight_fraction_leaf=0.0, presort='deprecated',\n",
            "                       random_state=1515977401, splitter='best'), DecisionTreeClassifier(ccp_alpha=0.0, class_weight=None, criterion='gini',\n",
            "                       max_depth=3, max_features=None, max_leaf_nodes=None,\n",
            "                       min_impurity_decrease=0.0, min_impurity_split=None,\n",
            "                       min_samples_leaf=1, min_samples_split=2,\n",
            "                       min_weight_fraction_leaf=0.0, presort='deprecated',\n",
            "                       random_state=79310589, splitter='best'), DecisionTreeClassifier(ccp_alpha=0.0, class_weight=None, criterion='gini',\n",
            "                       max_depth=3, max_features=None, max_leaf_nodes=None,\n",
            "                       min_impurity_decrease=0.0, min_impurity_split=None,\n",
            "                       min_samples_leaf=1, min_samples_split=2,\n",
            "                       min_weight_fraction_leaf=0.0, presort='deprecated',\n",
            "                       random_state=1107960126, splitter='best'), DecisionTreeClassifier(ccp_alpha=0.0, class_weight=None, criterion='gini',\n",
            "                       max_depth=3, max_features=None, max_leaf_nodes=None,\n",
            "                       min_impurity_decrease=0.0, min_impurity_split=None,\n",
            "                       min_samples_leaf=1, min_samples_split=2,\n",
            "                       min_weight_fraction_leaf=0.0, presort='deprecated',\n",
            "                       random_state=1904706735, splitter='best'), DecisionTreeClassifier(ccp_alpha=0.0, class_weight=None, criterion='gini',\n",
            "                       max_depth=3, max_features=None, max_leaf_nodes=None,\n",
            "                       min_impurity_decrease=0.0, min_impurity_split=None,\n",
            "                       min_samples_leaf=1, min_samples_split=2,\n",
            "                       min_weight_fraction_leaf=0.0, presort='deprecated',\n",
            "                       random_state=739605597, splitter='best'), DecisionTreeClassifier(ccp_alpha=0.0, class_weight=None, criterion='gini',\n",
            "                       max_depth=3, max_features=None, max_leaf_nodes=None,\n",
            "                       min_impurity_decrease=0.0, min_impurity_split=None,\n",
            "                       min_samples_leaf=1, min_samples_split=2,\n",
            "                       min_weight_fraction_leaf=0.0, presort='deprecated',\n",
            "                       random_state=1683076059, splitter='best'), DecisionTreeClassifier(ccp_alpha=0.0, class_weight=None, criterion='gini',\n",
            "                       max_depth=3, max_features=None, max_leaf_nodes=None,\n",
            "                       min_impurity_decrease=0.0, min_impurity_split=None,\n",
            "                       min_samples_leaf=1, min_samples_split=2,\n",
            "                       min_weight_fraction_leaf=0.0, presort='deprecated',\n",
            "                       random_state=1696587189, splitter='best'), DecisionTreeClassifier(ccp_alpha=0.0, class_weight=None, criterion='gini',\n",
            "                       max_depth=3, max_features=None, max_leaf_nodes=None,\n",
            "                       min_impurity_decrease=0.0, min_impurity_split=None,\n",
            "                       min_samples_leaf=1, min_samples_split=2,\n",
            "                       min_weight_fraction_leaf=0.0, presort='deprecated',\n",
            "                       random_state=986820080, splitter='best'), DecisionTreeClassifier(ccp_alpha=0.0, class_weight=None, criterion='gini',\n",
            "                       max_depth=3, max_features=None, max_leaf_nodes=None,\n",
            "                       min_impurity_decrease=0.0, min_impurity_split=None,\n",
            "                       min_samples_leaf=1, min_samples_split=2,\n",
            "                       min_weight_fraction_leaf=0.0, presort='deprecated',\n",
            "                       random_state=322891656, splitter='best'), DecisionTreeClassifier(ccp_alpha=0.0, class_weight=None, criterion='gini',\n",
            "                       max_depth=3, max_features=None, max_leaf_nodes=None,\n",
            "                       min_impurity_decrease=0.0, min_impurity_split=None,\n",
            "                       min_samples_leaf=1, min_samples_split=2,\n",
            "                       min_weight_fraction_leaf=0.0, presort='deprecated',\n",
            "                       random_state=925899425, splitter='best'), DecisionTreeClassifier(ccp_alpha=0.0, class_weight=None, criterion='gini',\n",
            "                       max_depth=3, max_features=None, max_leaf_nodes=None,\n",
            "                       min_impurity_decrease=0.0, min_impurity_split=None,\n",
            "                       min_samples_leaf=1, min_samples_split=2,\n",
            "                       min_weight_fraction_leaf=0.0, presort='deprecated',\n",
            "                       random_state=1566695183, splitter='best'), DecisionTreeClassifier(ccp_alpha=0.0, class_weight=None, criterion='gini',\n",
            "                       max_depth=3, max_features=None, max_leaf_nodes=None,\n",
            "                       min_impurity_decrease=0.0, min_impurity_split=None,\n",
            "                       min_samples_leaf=1, min_samples_split=2,\n",
            "                       min_weight_fraction_leaf=0.0, presort='deprecated',\n",
            "                       random_state=1311282032, splitter='best'), DecisionTreeClassifier(ccp_alpha=0.0, class_weight=None, criterion='gini',\n",
            "                       max_depth=3, max_features=None, max_leaf_nodes=None,\n",
            "                       min_impurity_decrease=0.0, min_impurity_split=None,\n",
            "                       min_samples_leaf=1, min_samples_split=2,\n",
            "                       min_weight_fraction_leaf=0.0, presort='deprecated',\n",
            "                       random_state=1656283410, splitter='best'), DecisionTreeClassifier(ccp_alpha=0.0, class_weight=None, criterion='gini',\n",
            "                       max_depth=3, max_features=None, max_leaf_nodes=None,\n",
            "                       min_impurity_decrease=0.0, min_impurity_split=None,\n",
            "                       min_samples_leaf=1, min_samples_split=2,\n",
            "                       min_weight_fraction_leaf=0.0, presort='deprecated',\n",
            "                       random_state=1147659835, splitter='best'), DecisionTreeClassifier(ccp_alpha=0.0, class_weight=None, criterion='gini',\n",
            "                       max_depth=3, max_features=None, max_leaf_nodes=None,\n",
            "                       min_impurity_decrease=0.0, min_impurity_split=None,\n",
            "                       min_samples_leaf=1, min_samples_split=2,\n",
            "                       min_weight_fraction_leaf=0.0, presort='deprecated',\n",
            "                       random_state=31857519, splitter='best'), DecisionTreeClassifier(ccp_alpha=0.0, class_weight=None, criterion='gini',\n",
            "                       max_depth=3, max_features=None, max_leaf_nodes=None,\n",
            "                       min_impurity_decrease=0.0, min_impurity_split=None,\n",
            "                       min_samples_leaf=1, min_samples_split=2,\n",
            "                       min_weight_fraction_leaf=0.0, presort='deprecated',\n",
            "                       random_state=1595844568, splitter='best'), DecisionTreeClassifier(ccp_alpha=0.0, class_weight=None, criterion='gini',\n",
            "                       max_depth=3, max_features=None, max_leaf_nodes=None,\n",
            "                       min_impurity_decrease=0.0, min_impurity_split=None,\n",
            "                       min_samples_leaf=1, min_samples_split=2,\n",
            "                       min_weight_fraction_leaf=0.0, presort='deprecated',\n",
            "                       random_state=517451426, splitter='best'), DecisionTreeClassifier(ccp_alpha=0.0, class_weight=None, criterion='gini',\n",
            "                       max_depth=3, max_features=None, max_leaf_nodes=None,\n",
            "                       min_impurity_decrease=0.0, min_impurity_split=None,\n",
            "                       min_samples_leaf=1, min_samples_split=2,\n",
            "                       min_weight_fraction_leaf=0.0, presort='deprecated',\n",
            "                       random_state=1646209968, splitter='best'), DecisionTreeClassifier(ccp_alpha=0.0, class_weight=None, criterion='gini',\n",
            "                       max_depth=3, max_features=None, max_leaf_nodes=None,\n",
            "                       min_impurity_decrease=0.0, min_impurity_split=None,\n",
            "                       min_samples_leaf=1, min_samples_split=2,\n",
            "                       min_weight_fraction_leaf=0.0, presort='deprecated',\n",
            "                       random_state=83348056, splitter='best'), DecisionTreeClassifier(ccp_alpha=0.0, class_weight=None, criterion='gini',\n",
            "                       max_depth=3, max_features=None, max_leaf_nodes=None,\n",
            "                       min_impurity_decrease=0.0, min_impurity_split=None,\n",
            "                       min_samples_leaf=1, min_samples_split=2,\n",
            "                       min_weight_fraction_leaf=0.0, presort='deprecated',\n",
            "                       random_state=1383564409, splitter='best'), DecisionTreeClassifier(ccp_alpha=0.0, class_weight=None, criterion='gini',\n",
            "                       max_depth=3, max_features=None, max_leaf_nodes=None,\n",
            "                       min_impurity_decrease=0.0, min_impurity_split=None,\n",
            "                       min_samples_leaf=1, min_samples_split=2,\n",
            "                       min_weight_fraction_leaf=0.0, presort='deprecated',\n",
            "                       random_state=1958320479, splitter='best'), DecisionTreeClassifier(ccp_alpha=0.0, class_weight=None, criterion='gini',\n",
            "                       max_depth=3, max_features=None, max_leaf_nodes=None,\n",
            "                       min_impurity_decrease=0.0, min_impurity_split=None,\n",
            "                       min_samples_leaf=1, min_samples_split=2,\n",
            "                       min_weight_fraction_leaf=0.0, presort='deprecated',\n",
            "                       random_state=159327050, splitter='best'), DecisionTreeClassifier(ccp_alpha=0.0, class_weight=None, criterion='gini',\n",
            "                       max_depth=3, max_features=None, max_leaf_nodes=None,\n",
            "                       min_impurity_decrease=0.0, min_impurity_split=None,\n",
            "                       min_samples_leaf=1, min_samples_split=2,\n",
            "                       min_weight_fraction_leaf=0.0, presort='deprecated',\n",
            "                       random_state=2074393198, splitter='best'), DecisionTreeClassifier(ccp_alpha=0.0, class_weight=None, criterion='gini',\n",
            "                       max_depth=3, max_features=None, max_leaf_nodes=None,\n",
            "                       min_impurity_decrease=0.0, min_impurity_split=None,\n",
            "                       min_samples_leaf=1, min_samples_split=2,\n",
            "                       min_weight_fraction_leaf=0.0, presort='deprecated',\n",
            "                       random_state=123060616, splitter='best'), DecisionTreeClassifier(ccp_alpha=0.0, class_weight=None, criterion='gini',\n",
            "                       max_depth=3, max_features=None, max_leaf_nodes=None,\n",
            "                       min_impurity_decrease=0.0, min_impurity_split=None,\n",
            "                       min_samples_leaf=1, min_samples_split=2,\n",
            "                       min_weight_fraction_leaf=0.0, presort='deprecated',\n",
            "                       random_state=629497021, splitter='best'), DecisionTreeClassifier(ccp_alpha=0.0, class_weight=None, criterion='gini',\n",
            "                       max_depth=3, max_features=None, max_leaf_nodes=None,\n",
            "                       min_impurity_decrease=0.0, min_impurity_split=None,\n",
            "                       min_samples_leaf=1, min_samples_split=2,\n",
            "                       min_weight_fraction_leaf=0.0, presort='deprecated',\n",
            "                       random_state=1402815679, splitter='best'), DecisionTreeClassifier(ccp_alpha=0.0, class_weight=None, criterion='gini',\n",
            "                       max_depth=3, max_features=None, max_leaf_nodes=None,\n",
            "                       min_impurity_decrease=0.0, min_impurity_split=None,\n",
            "                       min_samples_leaf=1, min_samples_split=2,\n",
            "                       min_weight_fraction_leaf=0.0, presort='deprecated',\n",
            "                       random_state=1823516868, splitter='best'), DecisionTreeClassifier(ccp_alpha=0.0, class_weight=None, criterion='gini',\n",
            "                       max_depth=3, max_features=None, max_leaf_nodes=None,\n",
            "                       min_impurity_decrease=0.0, min_impurity_split=None,\n",
            "                       min_samples_leaf=1, min_samples_split=2,\n",
            "                       min_weight_fraction_leaf=0.0, presort='deprecated',\n",
            "                       random_state=1497609424, splitter='best'), DecisionTreeClassifier(ccp_alpha=0.0, class_weight=None, criterion='gini',\n",
            "                       max_depth=3, max_features=None, max_leaf_nodes=None,\n",
            "                       min_impurity_decrease=0.0, min_impurity_split=None,\n",
            "                       min_samples_leaf=1, min_samples_split=2,\n",
            "                       min_weight_fraction_leaf=0.0, presort='deprecated',\n",
            "                       random_state=1029882189, splitter='best'), DecisionTreeClassifier(ccp_alpha=0.0, class_weight=None, criterion='gini',\n",
            "                       max_depth=3, max_features=None, max_leaf_nodes=None,\n",
            "                       min_impurity_decrease=0.0, min_impurity_split=None,\n",
            "                       min_samples_leaf=1, min_samples_split=2,\n",
            "                       min_weight_fraction_leaf=0.0, presort='deprecated',\n",
            "                       random_state=818372067, splitter='best'), DecisionTreeClassifier(ccp_alpha=0.0, class_weight=None, criterion='gini',\n",
            "                       max_depth=3, max_features=None, max_leaf_nodes=None,\n",
            "                       min_impurity_decrease=0.0, min_impurity_split=None,\n",
            "                       min_samples_leaf=1, min_samples_split=2,\n",
            "                       min_weight_fraction_leaf=0.0, presort='deprecated',\n",
            "                       random_state=901924780, splitter='best'), DecisionTreeClassifier(ccp_alpha=0.0, class_weight=None, criterion='gini',\n",
            "                       max_depth=3, max_features=None, max_leaf_nodes=None,\n",
            "                       min_impurity_decrease=0.0, min_impurity_split=None,\n",
            "                       min_samples_leaf=1, min_samples_split=2,\n",
            "                       min_weight_fraction_leaf=0.0, presort='deprecated',\n",
            "                       random_state=1652060744, splitter='best'), DecisionTreeClassifier(ccp_alpha=0.0, class_weight=None, criterion='gini',\n",
            "                       max_depth=3, max_features=None, max_leaf_nodes=None,\n",
            "                       min_impurity_decrease=0.0, min_impurity_split=None,\n",
            "                       min_samples_leaf=1, min_samples_split=2,\n",
            "                       min_weight_fraction_leaf=0.0, presort='deprecated',\n",
            "                       random_state=1277061987, splitter='best'), DecisionTreeClassifier(ccp_alpha=0.0, class_weight=None, criterion='gini',\n",
            "                       max_depth=3, max_features=None, max_leaf_nodes=None,\n",
            "                       min_impurity_decrease=0.0, min_impurity_split=None,\n",
            "                       min_samples_leaf=1, min_samples_split=2,\n",
            "                       min_weight_fraction_leaf=0.0, presort='deprecated',\n",
            "                       random_state=1672973643, splitter='best'), DecisionTreeClassifier(ccp_alpha=0.0, class_weight=None, criterion='gini',\n",
            "                       max_depth=3, max_features=None, max_leaf_nodes=None,\n",
            "                       min_impurity_decrease=0.0, min_impurity_split=None,\n",
            "                       min_samples_leaf=1, min_samples_split=2,\n",
            "                       min_weight_fraction_leaf=0.0, presort='deprecated',\n",
            "                       random_state=1109238406, splitter='best'), DecisionTreeClassifier(ccp_alpha=0.0, class_weight=None, criterion='gini',\n",
            "                       max_depth=3, max_features=None, max_leaf_nodes=None,\n",
            "                       min_impurity_decrease=0.0, min_impurity_split=None,\n",
            "                       min_samples_leaf=1, min_samples_split=2,\n",
            "                       min_weight_fraction_leaf=0.0, presort='deprecated',\n",
            "                       random_state=1703189208, splitter='best'), DecisionTreeClassifier(ccp_alpha=0.0, class_weight=None, criterion='gini',\n",
            "                       max_depth=3, max_features=None, max_leaf_nodes=None,\n",
            "                       min_impurity_decrease=0.0, min_impurity_split=None,\n",
            "                       min_samples_leaf=1, min_samples_split=2,\n",
            "                       min_weight_fraction_leaf=0.0, presort='deprecated',\n",
            "                       random_state=2064610538, splitter='best'), DecisionTreeClassifier(ccp_alpha=0.0, class_weight=None, criterion='gini',\n",
            "                       max_depth=3, max_features=None, max_leaf_nodes=None,\n",
            "                       min_impurity_decrease=0.0, min_impurity_split=None,\n",
            "                       min_samples_leaf=1, min_samples_split=2,\n",
            "                       min_weight_fraction_leaf=0.0, presort='deprecated',\n",
            "                       random_state=1297003083, splitter='best'), DecisionTreeClassifier(ccp_alpha=0.0, class_weight=None, criterion='gini',\n",
            "                       max_depth=3, max_features=None, max_leaf_nodes=None,\n",
            "                       min_impurity_decrease=0.0, min_impurity_split=None,\n",
            "                       min_samples_leaf=1, min_samples_split=2,\n",
            "                       min_weight_fraction_leaf=0.0, presort='deprecated',\n",
            "                       random_state=6998836, splitter='best'), DecisionTreeClassifier(ccp_alpha=0.0, class_weight=None, criterion='gini',\n",
            "                       max_depth=3, max_features=None, max_leaf_nodes=None,\n",
            "                       min_impurity_decrease=0.0, min_impurity_split=None,\n",
            "                       min_samples_leaf=1, min_samples_split=2,\n",
            "                       min_weight_fraction_leaf=0.0, presort='deprecated',\n",
            "                       random_state=560130588, splitter='best'), DecisionTreeClassifier(ccp_alpha=0.0, class_weight=None, criterion='gini',\n",
            "                       max_depth=3, max_features=None, max_leaf_nodes=None,\n",
            "                       min_impurity_decrease=0.0, min_impurity_split=None,\n",
            "                       min_samples_leaf=1, min_samples_split=2,\n",
            "                       min_weight_fraction_leaf=0.0, presort='deprecated',\n",
            "                       random_state=2091137201, splitter='best'), DecisionTreeClassifier(ccp_alpha=0.0, class_weight=None, criterion='gini',\n",
            "                       max_depth=3, max_features=None, max_leaf_nodes=None,\n",
            "                       min_impurity_decrease=0.0, min_impurity_split=None,\n",
            "                       min_samples_leaf=1, min_samples_split=2,\n",
            "                       min_weight_fraction_leaf=0.0, presort='deprecated',\n",
            "                       random_state=1858836326, splitter='best'), DecisionTreeClassifier(ccp_alpha=0.0, class_weight=None, criterion='gini',\n",
            "                       max_depth=3, max_features=None, max_leaf_nodes=None,\n",
            "                       min_impurity_decrease=0.0, min_impurity_split=None,\n",
            "                       min_samples_leaf=1, min_samples_split=2,\n",
            "                       min_weight_fraction_leaf=0.0, presort='deprecated',\n",
            "                       random_state=374815069, splitter='best'), DecisionTreeClassifier(ccp_alpha=0.0, class_weight=None, criterion='gini',\n",
            "                       max_depth=3, max_features=None, max_leaf_nodes=None,\n",
            "                       min_impurity_decrease=0.0, min_impurity_split=None,\n",
            "                       min_samples_leaf=1, min_samples_split=2,\n",
            "                       min_weight_fraction_leaf=0.0, presort='deprecated',\n",
            "                       random_state=524863383, splitter='best'), DecisionTreeClassifier(ccp_alpha=0.0, class_weight=None, criterion='gini',\n",
            "                       max_depth=3, max_features=None, max_leaf_nodes=None,\n",
            "                       min_impurity_decrease=0.0, min_impurity_split=None,\n",
            "                       min_samples_leaf=1, min_samples_split=2,\n",
            "                       min_weight_fraction_leaf=0.0, presort='deprecated',\n",
            "                       random_state=1254413281, splitter='best'), DecisionTreeClassifier(ccp_alpha=0.0, class_weight=None, criterion='gini',\n",
            "                       max_depth=3, max_features=None, max_leaf_nodes=None,\n",
            "                       min_impurity_decrease=0.0, min_impurity_split=None,\n",
            "                       min_samples_leaf=1, min_samples_split=2,\n",
            "                       min_weight_fraction_leaf=0.0, presort='deprecated',\n",
            "                       random_state=834137411, splitter='best'), DecisionTreeClassifier(ccp_alpha=0.0, class_weight=None, criterion='gini',\n",
            "                       max_depth=3, max_features=None, max_leaf_nodes=None,\n",
            "                       min_impurity_decrease=0.0, min_impurity_split=None,\n",
            "                       min_samples_leaf=1, min_samples_split=2,\n",
            "                       min_weight_fraction_leaf=0.0, presort='deprecated',\n",
            "                       random_state=114278073, splitter='best'), DecisionTreeClassifier(ccp_alpha=0.0, class_weight=None, criterion='gini',\n",
            "                       max_depth=3, max_features=None, max_leaf_nodes=None,\n",
            "                       min_impurity_decrease=0.0, min_impurity_split=None,\n",
            "                       min_samples_leaf=1, min_samples_split=2,\n",
            "                       min_weight_fraction_leaf=0.0, presort='deprecated',\n",
            "                       random_state=1110487541, splitter='best'), DecisionTreeClassifier(ccp_alpha=0.0, class_weight=None, criterion='gini',\n",
            "                       max_depth=3, max_features=None, max_leaf_nodes=None,\n",
            "                       min_impurity_decrease=0.0, min_impurity_split=None,\n",
            "                       min_samples_leaf=1, min_samples_split=2,\n",
            "                       min_weight_fraction_leaf=0.0, presort='deprecated',\n",
            "                       random_state=1068997759, splitter='best'), DecisionTreeClassifier(ccp_alpha=0.0, class_weight=None, criterion='gini',\n",
            "                       max_depth=3, max_features=None, max_leaf_nodes=None,\n",
            "                       min_impurity_decrease=0.0, min_impurity_split=None,\n",
            "                       min_samples_leaf=1, min_samples_split=2,\n",
            "                       min_weight_fraction_leaf=0.0, presort='deprecated',\n",
            "                       random_state=615064164, splitter='best'), DecisionTreeClassifier(ccp_alpha=0.0, class_weight=None, criterion='gini',\n",
            "                       max_depth=3, max_features=None, max_leaf_nodes=None,\n",
            "                       min_impurity_decrease=0.0, min_impurity_split=None,\n",
            "                       min_samples_leaf=1, min_samples_split=2,\n",
            "                       min_weight_fraction_leaf=0.0, presort='deprecated',\n",
            "                       random_state=1110845302, splitter='best'), DecisionTreeClassifier(ccp_alpha=0.0, class_weight=None, criterion='gini',\n",
            "                       max_depth=3, max_features=None, max_leaf_nodes=None,\n",
            "                       min_impurity_decrease=0.0, min_impurity_split=None,\n",
            "                       min_samples_leaf=1, min_samples_split=2,\n",
            "                       min_weight_fraction_leaf=0.0, presort='deprecated',\n",
            "                       random_state=693217144, splitter='best'), DecisionTreeClassifier(ccp_alpha=0.0, class_weight=None, criterion='gini',\n",
            "                       max_depth=3, max_features=None, max_leaf_nodes=None,\n",
            "                       min_impurity_decrease=0.0, min_impurity_split=None,\n",
            "                       min_samples_leaf=1, min_samples_split=2,\n",
            "                       min_weight_fraction_leaf=0.0, presort='deprecated',\n",
            "                       random_state=741971657, splitter='best'), DecisionTreeClassifier(ccp_alpha=0.0, class_weight=None, criterion='gini',\n",
            "                       max_depth=3, max_features=None, max_leaf_nodes=None,\n",
            "                       min_impurity_decrease=0.0, min_impurity_split=None,\n",
            "                       min_samples_leaf=1, min_samples_split=2,\n",
            "                       min_weight_fraction_leaf=0.0, presort='deprecated',\n",
            "                       random_state=1199875564, splitter='best'), DecisionTreeClassifier(ccp_alpha=0.0, class_weight=None, criterion='gini',\n",
            "                       max_depth=3, max_features=None, max_leaf_nodes=None,\n",
            "                       min_impurity_decrease=0.0, min_impurity_split=None,\n",
            "                       min_samples_leaf=1, min_samples_split=2,\n",
            "                       min_weight_fraction_leaf=0.0, presort='deprecated',\n",
            "                       random_state=500787658, splitter='best'), DecisionTreeClassifier(ccp_alpha=0.0, class_weight=None, criterion='gini',\n",
            "                       max_depth=3, max_features=None, max_leaf_nodes=None,\n",
            "                       min_impurity_decrease=0.0, min_impurity_split=None,\n",
            "                       min_samples_leaf=1, min_samples_split=2,\n",
            "                       min_weight_fraction_leaf=0.0, presort='deprecated',\n",
            "                       random_state=1560586818, splitter='best'), DecisionTreeClassifier(ccp_alpha=0.0, class_weight=None, criterion='gini',\n",
            "                       max_depth=3, max_features=None, max_leaf_nodes=None,\n",
            "                       min_impurity_decrease=0.0, min_impurity_split=None,\n",
            "                       min_samples_leaf=1, min_samples_split=2,\n",
            "                       min_weight_fraction_leaf=0.0, presort='deprecated',\n",
            "                       random_state=992464490, splitter='best'), DecisionTreeClassifier(ccp_alpha=0.0, class_weight=None, criterion='gini',\n",
            "                       max_depth=3, max_features=None, max_leaf_nodes=None,\n",
            "                       min_impurity_decrease=0.0, min_impurity_split=None,\n",
            "                       min_samples_leaf=1, min_samples_split=2,\n",
            "                       min_weight_fraction_leaf=0.0, presort='deprecated',\n",
            "                       random_state=1497154110, splitter='best'), DecisionTreeClassifier(ccp_alpha=0.0, class_weight=None, criterion='gini',\n",
            "                       max_depth=3, max_features=None, max_leaf_nodes=None,\n",
            "                       min_impurity_decrease=0.0, min_impurity_split=None,\n",
            "                       min_samples_leaf=1, min_samples_split=2,\n",
            "                       min_weight_fraction_leaf=0.0, presort='deprecated',\n",
            "                       random_state=1626116244, splitter='best'), DecisionTreeClassifier(ccp_alpha=0.0, class_weight=None, criterion='gini',\n",
            "                       max_depth=3, max_features=None, max_leaf_nodes=None,\n",
            "                       min_impurity_decrease=0.0, min_impurity_split=None,\n",
            "                       min_samples_leaf=1, min_samples_split=2,\n",
            "                       min_weight_fraction_leaf=0.0, presort='deprecated',\n",
            "                       random_state=1824746243, splitter='best'), DecisionTreeClassifier(ccp_alpha=0.0, class_weight=None, criterion='gini',\n",
            "                       max_depth=3, max_features=None, max_leaf_nodes=None,\n",
            "                       min_impurity_decrease=0.0, min_impurity_split=None,\n",
            "                       min_samples_leaf=1, min_samples_split=2,\n",
            "                       min_weight_fraction_leaf=0.0, presort='deprecated',\n",
            "                       random_state=1615218580, splitter='best'), DecisionTreeClassifier(ccp_alpha=0.0, class_weight=None, criterion='gini',\n",
            "                       max_depth=3, max_features=None, max_leaf_nodes=None,\n",
            "                       min_impurity_decrease=0.0, min_impurity_split=None,\n",
            "                       min_samples_leaf=1, min_samples_split=2,\n",
            "                       min_weight_fraction_leaf=0.0, presort='deprecated',\n",
            "                       random_state=654408703, splitter='best')]\n",
            "Score on train set: 1.0\n",
            "Score on eval set: 0.9995808885163453\n",
            "Classification Report on eval set:\n",
            "               precision    recall  f1-score   support\n",
            "\n",
            "           0       0.99      1.00      1.00       113\n",
            "           1       1.00      1.00      1.00      2273\n",
            "\n",
            "    accuracy                           1.00      2386\n",
            "   macro avg       1.00      1.00      1.00      2386\n",
            "weighted avg       1.00      1.00      1.00      2386\n",
            "\n",
            "Adaboost_Classifier took 0:34:25.823688\n"
          ],
          "name": "stdout"
        }
      ]
    },
    {
      "cell_type": "markdown",
      "metadata": {
        "id": "8t5UJu2I8LJv",
        "colab_type": "text"
      },
      "source": [
        "\n",
        "The classification report for Adaboost is very good. When I submitted in HackerRank, got a score of 99.37\n",
        "\n",
        "---\n",
        "Tried XGBoost next..."
      ]
    },
    {
      "cell_type": "code",
      "metadata": {
        "id": "bsoZYA4d7MfZ",
        "colab_type": "code",
        "colab": {
          "base_uri": "https://localhost:8080/",
          "height": 437
        },
        "outputId": "22d3c37e-5fec-48b4-d531-47af2fd9c89a"
      },
      "source": [
        "XGB_Classifier(train,test)"
      ],
      "execution_count": 113,
      "outputs": [
        {
          "output_type": "stream",
          "text": [
            "best params: {'learning_rate': 0.5, 'max_depth': 3, 'n_estimators': 140, 'reg_alpha': 0, 'reg_lambda': 0.5}\n",
            "best score: 0.9995342338146251\n",
            "best estimators: XGBClassifier(base_score=0.5, booster='gbtree', colsample_bylevel=1,\n",
            "              colsample_bynode=1, colsample_bytree=1, gamma=0,\n",
            "              learning_rate=0.5, max_delta_step=0, max_depth=3,\n",
            "              min_child_weight=1, missing=None, n_estimators=140, n_jobs=1,\n",
            "              nthread=None, objective='binary:logistic', random_state=0,\n",
            "              reg_alpha=0, reg_lambda=0.5, scale_pos_weight=1, seed=None,\n",
            "              silent=None, subsample=1, verbosity=1)\n",
            "Score on train set: 1.0\n",
            "Score on eval set: 1.0\n",
            "Classification Report on eval set:\n",
            "               precision    recall  f1-score   support\n",
            "\n",
            "           0       1.00      1.00      1.00       114\n",
            "           1       1.00      1.00      1.00      2272\n",
            "\n",
            "    accuracy                           1.00      2386\n",
            "   macro avg       1.00      1.00      1.00      2386\n",
            "weighted avg       1.00      1.00      1.00      2386\n",
            "\n",
            "XGB_Classifier took 0:27:08.101900\n"
          ],
          "name": "stdout"
        }
      ]
    },
    {
      "cell_type": "markdown",
      "metadata": {
        "id": "HcoE_VRlUt0h",
        "colab_type": "text"
      },
      "source": [
        "The XGB model performed well on submission to HackerRank(score 99.44).\n",
        "\n",
        "But can we get a better score? Lets try CatBoost optimized on scikit-opt"
      ]
    },
    {
      "cell_type": "markdown",
      "metadata": {
        "id": "KsBqWZECSDFV",
        "colab_type": "text"
      },
      "source": [
        "## Final submission: Used Catboost"
      ]
    },
    {
      "cell_type": "code",
      "metadata": {
        "id": "aJZ-TN-jRsV5",
        "colab_type": "code",
        "colab": {}
      },
      "source": [
        "class ModelOptimizer:\n",
        "    best_score = None\n",
        "    opt = None\n",
        "    \n",
        "    def __init__(self, model, X_train, y_train, categorical_columns_indices=None, n_fold=3, seed=2405, \n",
        "                 early_stopping_rounds=30, is_stratified=True, is_shuffle=True):\n",
        "        self.model = model\n",
        "        self.X_train = X_train\n",
        "        self.y_train = y_train\n",
        "        self.categorical_columns_indices = categorical_columns_indices\n",
        "        self.n_fold = n_fold\n",
        "        self.seed = seed\n",
        "        self.early_stopping_rounds = early_stopping_rounds\n",
        "        self.is_stratified = is_stratified\n",
        "        self.is_shuffle = is_shuffle\n",
        "        \n",
        "        \n",
        "    def update_model(self, **kwargs):\n",
        "        for k, v in kwargs.items():\n",
        "            setattr(self.model, k, v)\n",
        "            \n",
        "    def evaluate_model(self):\n",
        "        pass\n",
        "    \n",
        "    def optimize(self, param_space, max_evals=10, n_random_starts=2):\n",
        "        start_time = time.time()\n",
        "        \n",
        "        @use_named_args(param_space)\n",
        "        def _minimize(**params):\n",
        "            self.model.set_params(**params)\n",
        "            return self.evaluate_model()\n",
        "        \n",
        "        opt = gp_minimize(_minimize, param_space, n_calls=max_evals, n_random_starts=n_random_starts, random_state=2405, n_jobs=-1)\n",
        "        best_values = opt.x\n",
        "        optimal_values = dict(zip([param.name for param in param_space], best_values))\n",
        "        best_score = opt.fun\n",
        "        self.best_score = best_score\n",
        "        self.opt = opt\n",
        "        \n",
        "        print('optimal_parameters: {}\\noptimal score: {}\\noptimization time: {}'.format(optimal_values, best_score, time.time() - start_time))\n",
        "        print('updating model with optimal values')\n",
        "        self.update_model(**optimal_values)\n",
        "        plot_convergence(opt)\n",
        "        return optimal_values\n",
        "        \n",
        "class CatboostOptimizer(ModelOptimizer):\n",
        "    def evaluate_model(self):\n",
        "        validation_scores = catboost.cv(\n",
        "        catboost.Pool(self.X_train, \n",
        "                      self.y_train, \n",
        "                      cat_features=self.categorical_columns_indices),\n",
        "        self.model.get_params(), \n",
        "        nfold=self.n_fold,\n",
        "        stratified=self.is_stratified,\n",
        "        seed=self.seed,\n",
        "        early_stopping_rounds=self.early_stopping_rounds,\n",
        "        shuffle=self.is_shuffle,\n",
        "#         metrics='auc',\n",
        "        plot=False)\n",
        "        self.scores = validation_scores\n",
        "        test_scores = validation_scores.iloc[:, 2]\n",
        "        best_metric = test_scores.max()\n",
        "        return 1 - best_metric"
      ],
      "execution_count": 0,
      "outputs": []
    },
    {
      "cell_type": "code",
      "metadata": {
        "id": "pdOx99tadOxk",
        "colab_type": "code",
        "colab": {}
      },
      "source": [
        "@loggg\n",
        "def CatBoost_Classifier(train,test):\n",
        "  #CatBoost Algorithm\n",
        "  import catboost\n",
        "\n",
        "  #For Train\n",
        "  X,y = (train.pipe(start_pipeline).pipe(clean_dataset).pipe(prepare_dataset))\n",
        "  #X_train, X_eval, y_train, y_eval = model_selection.train_test_split(X, y, test_size=0.1, random_state=1)\n",
        "  \n",
        "  #For Test\n",
        "  X_test = (test.pipe(start_pipeline).pipe(clean_dataset).pipe(prepare_dataset))\n",
        "\n",
        "  #Checking for any categorical features\n",
        "  cate_features_index = np.where(X.dtypes != float)[0]\n",
        "\n",
        "  print(cate_features_index)\n",
        "  #One Step Optimization\n",
        "  cb = catboost.CatBoostClassifier(n_estimators=4000,\n",
        "                         loss_function='Logloss',\n",
        "                         eval_metric='WKappa',\n",
        "                         task_type='CPU',                \n",
        "                         random_seed=5, \n",
        "                         use_best_model=True,\n",
        "                         silent=True\n",
        "                        )\n",
        "\n",
        "  one_cb_optimizer = CatboostOptimizer(cb, X, y)\n",
        "  params_space = [Real(0.01, 0.8, name='learning_rate'), \n",
        "                Integer(2, 10, name='max_depth'), \n",
        "                Real(0.5, 1.0, name='colsample_bylevel'), \n",
        "                Real(0.0, 100, name='bagging_temperature'), \n",
        "                Real(0.0, 100, name='random_strength'), \n",
        "                Real(1.0, 100, name='reg_lambda')]\n",
        "  one_cb_optimal_values = one_cb_optimizer.optimize(params_space, max_evals=40, n_random_starts=4)\n",
        "  print(\"Optimal Parameters for Catboost:\",one_cb_optimizer.model.get_params())\n",
        "  pass"
      ],
      "execution_count": 0,
      "outputs": []
    },
    {
      "cell_type": "code",
      "metadata": {
        "id": "7ladjvDz7rr9",
        "colab_type": "code",
        "colab": {
          "base_uri": "https://localhost:8080/",
          "height": 1000
        },
        "outputId": "2e6ce412-18b7-4ade-8044-506be8384625"
      },
      "source": [
        "#We get the Optimal Parameters for Catboost from this\n",
        "CatBoost_Classifier(train,test)"
      ],
      "execution_count": 116,
      "outputs": [
        {
          "output_type": "stream",
          "text": [
            "[ 0  1  2  3  4  5  6  7  8  9 10 12 13 14 15 16 17]\n",
            "Stopped by overfitting detector  (30 iterations wait)\n",
            "Stopped by overfitting detector  (30 iterations wait)\n",
            "Stopped by overfitting detector  (30 iterations wait)\n",
            "Stopped by overfitting detector  (30 iterations wait)\n",
            "Stopped by overfitting detector  (30 iterations wait)\n",
            "Stopped by overfitting detector  (30 iterations wait)\n",
            "Stopped by overfitting detector  (30 iterations wait)\n",
            "Stopped by overfitting detector  (30 iterations wait)\n",
            "Stopped by overfitting detector  (30 iterations wait)\n",
            "Stopped by overfitting detector  (30 iterations wait)\n",
            "Stopped by overfitting detector  (30 iterations wait)\n",
            "Stopped by overfitting detector  (30 iterations wait)\n",
            "Stopped by overfitting detector  (30 iterations wait)\n",
            "Stopped by overfitting detector  (30 iterations wait)\n",
            "Stopped by overfitting detector  (30 iterations wait)\n",
            "Stopped by overfitting detector  (30 iterations wait)\n",
            "Stopped by overfitting detector  (30 iterations wait)\n",
            "Stopped by overfitting detector  (30 iterations wait)\n",
            "Stopped by overfitting detector  (30 iterations wait)\n",
            "Stopped by overfitting detector  (30 iterations wait)\n",
            "Stopped by overfitting detector  (30 iterations wait)\n",
            "Stopped by overfitting detector  (30 iterations wait)\n",
            "Stopped by overfitting detector  (30 iterations wait)\n",
            "Stopped by overfitting detector  (30 iterations wait)\n",
            "Stopped by overfitting detector  (30 iterations wait)\n",
            "Stopped by overfitting detector  (30 iterations wait)\n",
            "Stopped by overfitting detector  (30 iterations wait)\n",
            "Stopped by overfitting detector  (30 iterations wait)\n",
            "Stopped by overfitting detector  (30 iterations wait)\n",
            "Stopped by overfitting detector  (30 iterations wait)\n",
            "Stopped by overfitting detector  (30 iterations wait)\n",
            "Stopped by overfitting detector  (30 iterations wait)\n",
            "Stopped by overfitting detector  (30 iterations wait)\n",
            "Stopped by overfitting detector  (30 iterations wait)\n",
            "Stopped by overfitting detector  (30 iterations wait)\n",
            "Stopped by overfitting detector  (30 iterations wait)\n",
            "Stopped by overfitting detector  (30 iterations wait)\n",
            "Stopped by overfitting detector  (30 iterations wait)\n",
            "Stopped by overfitting detector  (30 iterations wait)\n",
            "Stopped by overfitting detector  (30 iterations wait)\n",
            "optimal_parameters: {'learning_rate': 0.5545112426934912, 'max_depth': 10, 'colsample_bylevel': 1.0, 'bagging_temperature': 100.0, 'random_strength': 100.0, 'reg_lambda': 1.0}\n",
            "optimal score: 0.7404775204602256\n",
            "optimization time: 580.0473213195801\n",
            "updating model with optimal values\n",
            "Optimal Parameters for Catboost: {'n_estimators': 4000, 'task_type': 'CPU', 'eval_metric': 'WKappa', 'silent': True, 'use_best_model': True, 'random_seed': 5, 'loss_function': 'Logloss', 'learning_rate': 0.5420048528718668, 'max_depth': 7, 'colsample_bylevel': 1.0, 'bagging_temperature': 100.0, 'random_strength': 100.0, 'reg_lambda': 1.0}\n",
            "CatBoost_Classifier took 0:09:42.811960\n"
          ],
          "name": "stdout"
        },
        {
          "output_type": "display_data",
          "data": {
            "image/png": "[encoded data removed]",
            "text/plain": [
              "<Figure size 720x576 with 1 Axes>"
            ]
          },
          "metadata": {
            "tags": [],
            "needs_background": "light"
          }
        }
      ]
    },
    {
      "cell_type": "markdown",
      "metadata": {
        "id": "o6h_O4ep2NV2",
        "colab_type": "text"
      },
      "source": [
        "We got the Optimal Parameters above.\n",
        "\n",
        "---\n",
        "\n",
        "\n",
        "\n",
        "We will build a CatBoost model using these parameters and train it on our entire train set"
      ]
    },
    {
      "cell_type": "code",
      "metadata": {
        "id": "4UtqWQPprhuf",
        "colab_type": "code",
        "colab": {}
      },
      "source": [
        "@loggg\n",
        "def CatBoostWithOptimizedParams(train,test):\n",
        "  from sklearn.metrics import confusion_matrix\n",
        "  #For Train\n",
        "  X,y = (train.pipe(start_pipeline).pipe(clean_dataset).pipe(prepare_dataset))\n",
        "  features=X.columns\n",
        "  cate_features_index = np.where(X.dtypes != float)[0]\n",
        "  cat_features=X.select_dtypes(exclude=[np.float]).columns\n",
        "\n",
        "  #For Test\n",
        "  X_test = (test.pipe(start_pipeline).pipe(clean_dataset).pipe(prepare_dataset))\n",
        "\n",
        "  #The optimal_parameters for Catboost are: {'learning_rate': 0.5545112426934912, 'max_depth': 7, \n",
        "  #'colsample_bylevel': 1.0, 'bagging_temperature': 100.0, 'random_strength': 100.0, \n",
        "  #'reg_lambda': 1.0} from previous step\n",
        "  #Lets use these parameters in our model and lets do a K-fold validation\n",
        "\n",
        "  def make_classifier():\n",
        "    clf = catboost.CatBoostClassifier(\n",
        "            n_estimators = 4000,\n",
        "            task_type = 'CPU',\n",
        "            random_seed = 31,\n",
        "            loss_function = 'Logloss',\n",
        "            learning_rate = 0.5545112426934912,\n",
        "            max_depth = 7,\n",
        "            colsample_bylevel = 1.0,\n",
        "            bagging_temperature = 100.0,\n",
        "            random_strength = 100.0,\n",
        "            reg_lambda = 1.0,\n",
        "            early_stopping_rounds=500,\n",
        "    )\n",
        "    return clf\n",
        "  oof = np.zeros(len(X))\n",
        "  \n",
        "  #K-fold CV\n",
        "  from sklearn.model_selection import KFold\n",
        "  oof = np.zeros(len(X))\n",
        "  NFOLDS = 5\n",
        "  folds = KFold(n_splits=NFOLDS, shuffle=True, random_state=2019)\n",
        "\n",
        "  training_start_time = time.time()\n",
        "  for fold, (trn_idx, test_idx) in enumerate(folds.split(X, y)):\n",
        "    start_time = time.time()\n",
        "    print(f'Training on fold {fold+1}')\n",
        "    clf = make_classifier()\n",
        "    clf.fit(X.loc[trn_idx, features], y.loc[trn_idx], eval_set=(X.loc[test_idx, features], y.loc[test_idx]),\n",
        "                          use_best_model=True, verbose=500, cat_features=cat_features)    \n",
        "    oof[test_idx] = clf.predict(X.loc[test_idx, features]).reshape(len(test_idx))\n",
        "    print('Fold {} finished in {}'.format(fold + 1, str(datetime.timedelta(seconds=time.time() - start_time))))\n",
        "\n",
        "  print('-' * 30)\n",
        "  print('Confusion Matrix:\\n', confusion_matrix(y,oof))\n",
        "  print('-' * 30)\n",
        "\n",
        "  # train model on all data once\n",
        "  clf = make_classifier()\n",
        "  clf.fit(X, y, verbose=500, cat_features=cat_features)\n",
        "\n",
        "  preds = clf.predict(X_test)\n",
        "  submission = pd.DataFrame({'INCIDENT_ID':test['INCIDENT_ID'],'MULTIPLE_OFFENSE':np.round(preds).astype('int')})\n",
        "  submission.to_csv('submission_CatBoostWithOptimization.csv',index=False)\n",
        "  pass"
      ],
      "execution_count": 0,
      "outputs": []
    },
    {
      "cell_type": "code",
      "metadata": {
        "id": "NXcmXCT02mvS",
        "colab_type": "code",
        "colab": {
          "base_uri": "https://localhost:8080/",
          "height": 1000
        },
        "outputId": "83ac8fdb-193f-4937-c0a0-1f34fe7c886d"
      },
      "source": [
        "CatBoostWithOptimizedParams(train,test)"
      ],
      "execution_count": 118,
      "outputs": [
        {
          "output_type": "stream",
          "text": [
            "Training on fold 1\n",
            "0:\tlearn: 0.2430084\ttest: 0.2462919\tbest: 0.2462919 (0)\ttotal: 51.7ms\tremaining: 3m 26s\n",
            "500:\tlearn: 0.0001821\ttest: 0.0000540\tbest: 0.0000540 (499)\ttotal: 43.6s\tremaining: 5m 4s\n",
            "1000:\tlearn: 0.0001630\ttest: 0.0000498\tbest: 0.0000498 (1000)\ttotal: 1m 28s\tremaining: 4m 25s\n",
            "1500:\tlearn: 0.0001270\ttest: 0.0000394\tbest: 0.0000394 (1500)\ttotal: 2m 13s\tremaining: 3m 42s\n",
            "2000:\tlearn: 0.0000900\ttest: 0.0000327\tbest: 0.0000327 (2000)\ttotal: 2m 58s\tremaining: 2m 58s\n",
            "2500:\tlearn: 0.0000820\ttest: 0.0000305\tbest: 0.0000305 (2500)\ttotal: 3m 44s\tremaining: 2m 14s\n",
            "3000:\tlearn: 0.0000759\ttest: 0.0000287\tbest: 0.0000287 (3000)\ttotal: 4m 30s\tremaining: 1m 30s\n",
            "3500:\tlearn: 0.0000713\ttest: 0.0000274\tbest: 0.0000274 (3500)\ttotal: 5m 15s\tremaining: 45s\n",
            "3999:\tlearn: 0.0000670\ttest: 0.0000261\tbest: 0.0000261 (3999)\ttotal: 6m 1s\tremaining: 0us\n",
            "\n",
            "bestTest = 2.61490825e-05\n",
            "bestIteration = 3999\n",
            "\n",
            "Fold 1 finished in 0:06:02.498296\n",
            "Training on fold 2\n",
            "0:\tlearn: 0.2425168\ttest: 0.2472815\tbest: 0.2472815 (0)\ttotal: 58.7ms\tremaining: 3m 54s\n",
            "500:\tlearn: 0.0002001\ttest: 0.0001156\tbest: 0.0001156 (495)\ttotal: 43.1s\tremaining: 5m 1s\n",
            "1000:\tlearn: 0.0001970\ttest: 0.0001136\tbest: 0.0001136 (998)\ttotal: 1m 27s\tremaining: 4m 22s\n",
            "1500:\tlearn: 0.0001911\ttest: 0.0001066\tbest: 0.0001066 (1496)\ttotal: 2m 13s\tremaining: 3m 42s\n",
            "2000:\tlearn: 0.0001453\ttest: 0.0000451\tbest: 0.0000451 (1985)\ttotal: 2m 55s\tremaining: 2m 55s\n",
            "2500:\tlearn: 0.0001362\ttest: 0.0000422\tbest: 0.0000422 (2500)\ttotal: 3m 37s\tremaining: 2m 10s\n",
            "3000:\tlearn: 0.0001269\ttest: 0.0000397\tbest: 0.0000397 (3000)\ttotal: 4m 18s\tremaining: 1m 26s\n",
            "3500:\tlearn: 0.0001189\ttest: 0.0000378\tbest: 0.0000378 (3498)\ttotal: 4m 59s\tremaining: 42.7s\n",
            "3999:\tlearn: 0.0001143\ttest: 0.0000367\tbest: 0.0000367 (3997)\ttotal: 5m 40s\tremaining: 0us\n",
            "\n",
            "bestTest = 3.674343134e-05\n",
            "bestIteration = 3997\n",
            "\n",
            "Shrink model to first 3998 iterations.\n",
            "Fold 2 finished in 0:05:41.744316\n",
            "Training on fold 3\n",
            "0:\tlearn: 0.2478520\ttest: 0.2378905\tbest: 0.2378905 (0)\ttotal: 57.5ms\tremaining: 3m 49s\n",
            "500:\tlearn: 0.0002114\ttest: 0.0001776\tbest: 0.0001776 (500)\ttotal: 38.5s\tremaining: 4m 28s\n",
            "1000:\tlearn: 0.0002001\ttest: 0.0001674\tbest: 0.0001674 (1000)\ttotal: 1m 17s\tremaining: 3m 52s\n",
            "1500:\tlearn: 0.0001903\ttest: 0.0001611\tbest: 0.0001611 (1499)\ttotal: 1m 56s\tremaining: 3m 14s\n",
            "2000:\tlearn: 0.0001649\ttest: 0.0001398\tbest: 0.0001397 (1982)\ttotal: 2m 35s\tremaining: 2m 35s\n",
            "2500:\tlearn: 0.0001581\ttest: 0.0001375\tbest: 0.0001375 (2499)\ttotal: 3m 15s\tremaining: 1m 57s\n",
            "3000:\tlearn: 0.0001511\ttest: 0.0001349\tbest: 0.0001349 (2982)\ttotal: 3m 56s\tremaining: 1m 18s\n",
            "3500:\tlearn: 0.0001404\ttest: 0.0001266\tbest: 0.0001266 (3500)\ttotal: 4m 35s\tremaining: 39.3s\n",
            "3999:\tlearn: 0.0001302\ttest: 0.0001163\tbest: 0.0001163 (3999)\ttotal: 5m 15s\tremaining: 0us\n",
            "\n",
            "bestTest = 0.0001163302658\n",
            "bestIteration = 3999\n",
            "\n",
            "Fold 3 finished in 0:05:17.018609\n",
            "Training on fold 4\n",
            "0:\tlearn: 0.2416733\ttest: 0.2485378\tbest: 0.2485378 (0)\ttotal: 55.2ms\tremaining: 3m 40s\n",
            "500:\tlearn: 0.0003283\ttest: 0.0000572\tbest: 0.0000572 (494)\ttotal: 41.7s\tremaining: 4m 51s\n",
            "1000:\tlearn: 0.0002970\ttest: 0.0000529\tbest: 0.0000529 (999)\ttotal: 1m 28s\tremaining: 4m 24s\n",
            "1500:\tlearn: 0.0002264\ttest: 0.0000429\tbest: 0.0000429 (1488)\ttotal: 2m 11s\tremaining: 3m 39s\n",
            "2000:\tlearn: 0.0002092\ttest: 0.0000425\tbest: 0.0000425 (1997)\ttotal: 2m 54s\tremaining: 2m 53s\n",
            "2500:\tlearn: 0.0002067\ttest: 0.0000423\tbest: 0.0000422 (2420)\ttotal: 3m 37s\tremaining: 2m 10s\n",
            "3000:\tlearn: 0.0002004\ttest: 0.0000408\tbest: 0.0000408 (3000)\ttotal: 4m 21s\tremaining: 1m 26s\n",
            "3500:\tlearn: 0.0001977\ttest: 0.0000407\tbest: 0.0000406 (3117)\ttotal: 5m 4s\tremaining: 43.4s\n",
            "Stopped by overfitting detector  (500 iterations wait)\n",
            "\n",
            "bestTest = 4.061708002e-05\n",
            "bestIteration = 3117\n",
            "\n",
            "Shrink model to first 3118 iterations.\n",
            "Fold 4 finished in 0:05:16.077695\n",
            "Training on fold 5\n",
            "0:\tlearn: 0.2457633\ttest: 0.2412358\tbest: 0.2412358 (0)\ttotal: 36.3ms\tremaining: 2m 25s\n",
            "500:\tlearn: 0.0001923\ttest: 0.0012536\tbest: 0.0011565 (23)\ttotal: 43.1s\tremaining: 5m 1s\n",
            "Stopped by overfitting detector  (500 iterations wait)\n",
            "\n",
            "bestTest = 0.001156473143\n",
            "bestIteration = 23\n",
            "\n",
            "Shrink model to first 24 iterations.\n",
            "Fold 5 finished in 0:00:45.677081\n",
            "------------------------------\n",
            "Confusion Matrix:\n",
            " [[ 1067     1]\n",
            " [    1 22787]]\n",
            "------------------------------\n",
            "0:\tlearn: 0.2442168\ttotal: 22.7ms\tremaining: 1m 30s\n",
            "500:\tlearn: 0.0002042\ttotal: 49.1s\tremaining: 5m 43s\n",
            "1000:\tlearn: 0.0001855\ttotal: 1m 40s\tremaining: 5m\n",
            "1500:\tlearn: 0.0001224\ttotal: 2m 31s\tremaining: 4m 11s\n",
            "2000:\tlearn: 0.0001100\ttotal: 3m 22s\tremaining: 3m 22s\n",
            "2500:\tlearn: 0.0001038\ttotal: 4m 12s\tremaining: 2m 31s\n",
            "3000:\tlearn: 0.0000991\ttotal: 5m 4s\tremaining: 1m 41s\n",
            "3500:\tlearn: 0.0000943\ttotal: 5m 58s\tremaining: 51.1s\n",
            "3999:\tlearn: 0.0000888\ttotal: 6m 49s\tremaining: 0us\n",
            "CatBoostWithOptimizedParams took 0:29:56.363328\n"
          ],
          "name": "stdout"
        }
      ]
    },
    {
      "cell_type": "markdown",
      "metadata": {
        "id": "Kcxh8jIo3Z_z",
        "colab_type": "text"
      },
      "source": [
        "As we can see from the confusion matrix after the K-fold validation, the diagnol elements are 1(close to 0), which means the model was performed pretty good."
      ]
    },
    {
      "cell_type": "markdown",
      "metadata": {
        "id": "GMdScA9v30Hg",
        "colab_type": "text"
      },
      "source": [
        "**On submission on HackerRank , I got a score of 100 !!**"
      ]
    }
  ]
}